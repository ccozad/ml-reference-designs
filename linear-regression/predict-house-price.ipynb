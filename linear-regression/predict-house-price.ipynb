{
 "cells": [
  {
   "cell_type": "code",
   "execution_count": 1,
   "id": "1c885056-a128-40d9-8b84-7dcd0ff1e3ae",
   "metadata": {},
   "outputs": [
    {
     "data": {
      "text/html": [
       "<div>\n",
       "<style scoped>\n",
       "    .dataframe tbody tr th:only-of-type {\n",
       "        vertical-align: middle;\n",
       "    }\n",
       "\n",
       "    .dataframe tbody tr th {\n",
       "        vertical-align: top;\n",
       "    }\n",
       "\n",
       "    .dataframe thead th {\n",
       "        text-align: right;\n",
       "    }\n",
       "</style>\n",
       "<table border=\"1\" class=\"dataframe\">\n",
       "  <thead>\n",
       "    <tr style=\"text-align: right;\">\n",
       "      <th></th>\n",
       "      <th>Unnamed: 0</th>\n",
       "      <th>Close Price</th>\n",
       "      <th>Approx SqFt</th>\n",
       "      <th>Lot Size - Acres</th>\n",
       "      <th>Bedrooms</th>\n",
       "      <th>Association Fee</th>\n",
       "      <th>Address - Zip Code</th>\n",
       "      <th>Pool</th>\n",
       "      <th>Stories</th>\n",
       "      <th>Full Baths</th>\n",
       "      <th>Half Baths</th>\n",
       "    </tr>\n",
       "  </thead>\n",
       "  <tbody>\n",
       "    <tr>\n",
       "      <th>0</th>\n",
       "      <td>0</td>\n",
       "      <td>0.225790</td>\n",
       "      <td>0.241465</td>\n",
       "      <td>0.143080</td>\n",
       "      <td>0.574006</td>\n",
       "      <td>-0.266296</td>\n",
       "      <td>-1.130717</td>\n",
       "      <td>-0.468623</td>\n",
       "      <td>-0.616885</td>\n",
       "      <td>-0.183358</td>\n",
       "      <td>1.847107</td>\n",
       "    </tr>\n",
       "    <tr>\n",
       "      <th>1</th>\n",
       "      <td>1</td>\n",
       "      <td>1.079862</td>\n",
       "      <td>1.640510</td>\n",
       "      <td>0.003674</td>\n",
       "      <td>0.574006</td>\n",
       "      <td>-0.266296</td>\n",
       "      <td>-0.053129</td>\n",
       "      <td>-0.468623</td>\n",
       "      <td>1.563242</td>\n",
       "      <td>1.357840</td>\n",
       "      <td>1.847107</td>\n",
       "    </tr>\n",
       "    <tr>\n",
       "      <th>2</th>\n",
       "      <td>2</td>\n",
       "      <td>-0.239254</td>\n",
       "      <td>-0.513486</td>\n",
       "      <td>-0.590704</td>\n",
       "      <td>-0.630825</td>\n",
       "      <td>0.645194</td>\n",
       "      <td>1.563253</td>\n",
       "      <td>-0.468623</td>\n",
       "      <td>1.563242</td>\n",
       "      <td>-0.183358</td>\n",
       "      <td>1.847107</td>\n",
       "    </tr>\n",
       "    <tr>\n",
       "      <th>3</th>\n",
       "      <td>3</td>\n",
       "      <td>-0.357478</td>\n",
       "      <td>-0.385790</td>\n",
       "      <td>-0.319918</td>\n",
       "      <td>-0.630825</td>\n",
       "      <td>-0.266296</td>\n",
       "      <td>-0.053129</td>\n",
       "      <td>-0.468623</td>\n",
       "      <td>-0.616885</td>\n",
       "      <td>-0.183358</td>\n",
       "      <td>-0.528290</td>\n",
       "    </tr>\n",
       "    <tr>\n",
       "      <th>4</th>\n",
       "      <td>4</td>\n",
       "      <td>-0.232492</td>\n",
       "      <td>-0.617327</td>\n",
       "      <td>0.180255</td>\n",
       "      <td>-0.630825</td>\n",
       "      <td>-0.266296</td>\n",
       "      <td>-1.130717</td>\n",
       "      <td>-0.468623</td>\n",
       "      <td>-0.616885</td>\n",
       "      <td>-0.183358</td>\n",
       "      <td>-0.528290</td>\n",
       "    </tr>\n",
       "  </tbody>\n",
       "</table>\n",
       "</div>"
      ],
      "text/plain": [
       "   Unnamed: 0  Close Price  Approx SqFt  Lot Size - Acres  Bedrooms  \\\n",
       "0           0     0.225790     0.241465          0.143080  0.574006   \n",
       "1           1     1.079862     1.640510          0.003674  0.574006   \n",
       "2           2    -0.239254    -0.513486         -0.590704 -0.630825   \n",
       "3           3    -0.357478    -0.385790         -0.319918 -0.630825   \n",
       "4           4    -0.232492    -0.617327          0.180255 -0.630825   \n",
       "\n",
       "   Association Fee  Address - Zip Code      Pool   Stories  Full Baths  \\\n",
       "0        -0.266296           -1.130717 -0.468623 -0.616885   -0.183358   \n",
       "1        -0.266296           -0.053129 -0.468623  1.563242    1.357840   \n",
       "2         0.645194            1.563253 -0.468623  1.563242   -0.183358   \n",
       "3        -0.266296           -0.053129 -0.468623 -0.616885   -0.183358   \n",
       "4        -0.266296           -1.130717 -0.468623 -0.616885   -0.183358   \n",
       "\n",
       "   Half Baths  \n",
       "0    1.847107  \n",
       "1    1.847107  \n",
       "2    1.847107  \n",
       "3   -0.528290  \n",
       "4   -0.528290  "
      ]
     },
     "execution_count": 1,
     "metadata": {},
     "output_type": "execute_result"
    }
   ],
   "source": [
    "from IPython.display import display\n",
    "import pandas as pd\n",
    "\n",
    "mls_data = pd.read_csv(\"standardized-mls-data.csv\")\n",
    "mls_data.head()"
   ]
  },
  {
   "cell_type": "code",
   "execution_count": 2,
   "id": "923e3dce-7f54-472b-943a-1856db3aeecd",
   "metadata": {},
   "outputs": [
    {
     "name": "stdout",
     "output_type": "stream",
     "text": [
      "The dataset has 1866 rows\n",
      "['Unnamed: 0', 'Close Price', 'Approx SqFt', 'Lot Size - Acres', 'Bedrooms', 'Association Fee', 'Address - Zip Code', 'Pool', 'Stories', 'Full Baths', 'Half Baths']\n"
     ]
    }
   ],
   "source": [
    "row_count = len(mls_data.index)\n",
    "print(f\"The dataset has {row_count} rows\")\n",
    "\n",
    "input_columns = list(mls_data.columns)\n",
    "print(input_columns)"
   ]
  },
  {
   "cell_type": "code",
   "execution_count": 3,
   "id": "ac5334d8-3453-49d2-8e6f-cdfe10cb1179",
   "metadata": {},
   "outputs": [
    {
     "data": {
      "text/html": [
       "<div>\n",
       "<style scoped>\n",
       "    .dataframe tbody tr th:only-of-type {\n",
       "        vertical-align: middle;\n",
       "    }\n",
       "\n",
       "    .dataframe tbody tr th {\n",
       "        vertical-align: top;\n",
       "    }\n",
       "\n",
       "    .dataframe thead th {\n",
       "        text-align: right;\n",
       "    }\n",
       "</style>\n",
       "<table border=\"1\" class=\"dataframe\">\n",
       "  <thead>\n",
       "    <tr style=\"text-align: right;\">\n",
       "      <th></th>\n",
       "      <th>Close Price</th>\n",
       "      <th>Approx SqFt</th>\n",
       "      <th>Lot Size - Acres</th>\n",
       "      <th>Bedrooms</th>\n",
       "      <th>Association Fee</th>\n",
       "      <th>Address - Zip Code</th>\n",
       "      <th>Pool</th>\n",
       "      <th>Stories</th>\n",
       "      <th>Full Baths</th>\n",
       "      <th>Half Baths</th>\n",
       "    </tr>\n",
       "  </thead>\n",
       "  <tbody>\n",
       "    <tr>\n",
       "      <th>0</th>\n",
       "      <td>0.225790</td>\n",
       "      <td>0.241465</td>\n",
       "      <td>0.143080</td>\n",
       "      <td>0.574006</td>\n",
       "      <td>-0.266296</td>\n",
       "      <td>-1.130717</td>\n",
       "      <td>-0.468623</td>\n",
       "      <td>-0.616885</td>\n",
       "      <td>-0.183358</td>\n",
       "      <td>1.847107</td>\n",
       "    </tr>\n",
       "    <tr>\n",
       "      <th>1</th>\n",
       "      <td>1.079862</td>\n",
       "      <td>1.640510</td>\n",
       "      <td>0.003674</td>\n",
       "      <td>0.574006</td>\n",
       "      <td>-0.266296</td>\n",
       "      <td>-0.053129</td>\n",
       "      <td>-0.468623</td>\n",
       "      <td>1.563242</td>\n",
       "      <td>1.357840</td>\n",
       "      <td>1.847107</td>\n",
       "    </tr>\n",
       "    <tr>\n",
       "      <th>2</th>\n",
       "      <td>-0.239254</td>\n",
       "      <td>-0.513486</td>\n",
       "      <td>-0.590704</td>\n",
       "      <td>-0.630825</td>\n",
       "      <td>0.645194</td>\n",
       "      <td>1.563253</td>\n",
       "      <td>-0.468623</td>\n",
       "      <td>1.563242</td>\n",
       "      <td>-0.183358</td>\n",
       "      <td>1.847107</td>\n",
       "    </tr>\n",
       "    <tr>\n",
       "      <th>3</th>\n",
       "      <td>-0.357478</td>\n",
       "      <td>-0.385790</td>\n",
       "      <td>-0.319918</td>\n",
       "      <td>-0.630825</td>\n",
       "      <td>-0.266296</td>\n",
       "      <td>-0.053129</td>\n",
       "      <td>-0.468623</td>\n",
       "      <td>-0.616885</td>\n",
       "      <td>-0.183358</td>\n",
       "      <td>-0.528290</td>\n",
       "    </tr>\n",
       "    <tr>\n",
       "      <th>4</th>\n",
       "      <td>-0.232492</td>\n",
       "      <td>-0.617327</td>\n",
       "      <td>0.180255</td>\n",
       "      <td>-0.630825</td>\n",
       "      <td>-0.266296</td>\n",
       "      <td>-1.130717</td>\n",
       "      <td>-0.468623</td>\n",
       "      <td>-0.616885</td>\n",
       "      <td>-0.183358</td>\n",
       "      <td>-0.528290</td>\n",
       "    </tr>\n",
       "  </tbody>\n",
       "</table>\n",
       "</div>"
      ],
      "text/plain": [
       "   Close Price  Approx SqFt  Lot Size - Acres  Bedrooms  Association Fee  \\\n",
       "0     0.225790     0.241465          0.143080  0.574006        -0.266296   \n",
       "1     1.079862     1.640510          0.003674  0.574006        -0.266296   \n",
       "2    -0.239254    -0.513486         -0.590704 -0.630825         0.645194   \n",
       "3    -0.357478    -0.385790         -0.319918 -0.630825        -0.266296   \n",
       "4    -0.232492    -0.617327          0.180255 -0.630825        -0.266296   \n",
       "\n",
       "   Address - Zip Code      Pool   Stories  Full Baths  Half Baths  \n",
       "0           -1.130717 -0.468623 -0.616885   -0.183358    1.847107  \n",
       "1           -0.053129 -0.468623  1.563242    1.357840    1.847107  \n",
       "2            1.563253 -0.468623  1.563242   -0.183358    1.847107  \n",
       "3           -0.053129 -0.468623 -0.616885   -0.183358   -0.528290  \n",
       "4           -1.130717 -0.468623 -0.616885   -0.183358   -0.528290  "
      ]
     },
     "execution_count": 3,
     "metadata": {},
     "output_type": "execute_result"
    }
   ],
   "source": [
    "mls_data = mls_data.drop(columns = [\"Unnamed: 0\"])\n",
    "mls_data.head()"
   ]
  },
  {
   "cell_type": "markdown",
   "id": "1cf19e72-8e00-4da6-b960-27dee2776b4b",
   "metadata": {},
   "source": [
    "# Get the data into tensors"
   ]
  },
  {
   "cell_type": "code",
   "execution_count": 4,
   "id": "91986c6b-abbe-487a-8d8c-7db92e3cdc83",
   "metadata": {},
   "outputs": [],
   "source": [
    "output_columns = [\"Close Price\"]\n",
    "input_columns = ['Approx SqFt', 'Lot Size - Acres', 'Bedrooms', 'Association Fee', 'Address - Zip Code', 'Pool', 'Stories', 'Full Baths', 'Half Baths']\n",
    "\n",
    "data_frame = mls_data.copy(deep = True)\n",
    "\n",
    "inputs_array = data_frame[input_columns].to_numpy()\n",
    "targets_array = data_frame[output_columns].to_numpy()"
   ]
  },
  {
   "cell_type": "code",
   "execution_count": 5,
   "id": "c7c26727-ceaa-4a64-bae6-4c984bd48044",
   "metadata": {},
   "outputs": [
    {
     "name": "stdout",
     "output_type": "stream",
     "text": [
      "Using device cuda\n",
      "torch.Size([1866, 9])\n",
      "torch.Size([1866, 1])\n"
     ]
    }
   ],
   "source": [
    "import torch\n",
    "\n",
    "device = \"cpu\"\n",
    "if torch.cuda.is_available():\n",
    "    device = \"cuda\"\n",
    "elif torch.backends.mps.is_available():\n",
    "    device = \"mps\"\n",
    "\n",
    "print(f\"Using device {device}\")\n",
    "\n",
    "inputs = torch.Tensor(inputs_array).to(device)\n",
    "targets = torch.Tensor(targets_array).to(device)\n",
    "\n",
    "print(inputs.shape)\n",
    "print(targets.shape)"
   ]
  },
  {
   "cell_type": "markdown",
   "id": "4afd8064-a901-4e30-87ef-51b44e8b4ab7",
   "metadata": {},
   "source": [
    "# Split the data between training and validation sets"
   ]
  },
  {
   "cell_type": "code",
   "execution_count": 6,
   "id": "db463f85-97a3-453b-a8ba-d476b0977f82",
   "metadata": {},
   "outputs": [
    {
     "data": {
      "text/plain": [
       "(1307, 559)"
      ]
     },
     "execution_count": 6,
     "metadata": {},
     "output_type": "execute_result"
    }
   ],
   "source": [
    "from torch.utils.data import DataLoader, TensorDataset, random_split\n",
    "\n",
    "dataset = TensorDataset(inputs, targets)\n",
    "\n",
    "validation_percent = 0.3\n",
    "validation_size = int(row_count * validation_percent)\n",
    "training_size = row_count - validation_size\n",
    "\n",
    "training_dataset, validation_dataset = random_split(dataset, [training_size, validation_size])\n",
    "training_size, validation_size"
   ]
  },
  {
   "cell_type": "code",
   "execution_count": 7,
   "id": "311dc2e4-4ff8-4966-aa5f-9c0da4d25787",
   "metadata": {},
   "outputs": [
    {
     "name": "stdout",
     "output_type": "stream",
     "text": [
      "Shape of X [N, C, H, W]: torch.Size([16, 9])\n",
      "Shape of y: torch.Size([16, 1]) torch.float32\n"
     ]
    }
   ],
   "source": [
    "batch_size = 16\n",
    "\n",
    "training_loader = DataLoader(training_dataset, batch_size, shuffle = True)\n",
    "validation_loader = DataLoader(validation_dataset, batch_size)\n",
    "\n",
    "for X, y in training_loader:\n",
    "    print(f\"Shape of X [N, C, H, W]: {X.shape}\")\n",
    "    print(f\"Shape of y: {y.shape} {y.dtype}\")\n",
    "    break"
   ]
  },
  {
   "cell_type": "markdown",
   "id": "e5a3e92a-85f8-49fd-90d6-ae1abb36e6c7",
   "metadata": {},
   "source": [
    "# Create the model"
   ]
  },
  {
   "cell_type": "code",
   "execution_count": 16,
   "id": "90ee262e-61a3-4e22-b3ca-3b4929818761",
   "metadata": {},
   "outputs": [
    {
     "name": "stdout",
     "output_type": "stream",
     "text": [
      "LinearRegression(\n",
      "  (linear): Linear(in_features=9, out_features=1, bias=True)\n",
      ")\n"
     ]
    }
   ],
   "source": [
    "from torch import nn\n",
    "\n",
    "input_size = len(input_columns)\n",
    "output_size = len(output_columns)\n",
    "\n",
    "class LinearRegression(nn.Module):\n",
    "    def __init__(self):\n",
    "        super().__init__()\n",
    "        self.linear = nn.Linear(input_size, output_size)\n",
    "\n",
    "    def forward(self, x):\n",
    "        output = self.linear(x)\n",
    "        return output\n",
    "\n",
    "    def training_step(self, batch):\n",
    "        inputs, targets = batch\n",
    "        output = self(inputs)\n",
    "        loss = nn.functional.l1_loss(\n",
    "            input = output,\n",
    "            target = targets,\n",
    "            size_average = None,\n",
    "            reduce = None,\n",
    "            reduction = 'mean'\n",
    "        )\n",
    "        return loss\n",
    "\n",
    "    def validation_step(self, batch):\n",
    "        inputs, targets = batch\n",
    "        output = self(inputs)\n",
    "        loss = nn.functional.l1_loss(\n",
    "            input = output,\n",
    "            target = targets,\n",
    "            size_average = None,\n",
    "            reduce = None,\n",
    "            reduction = 'mean'\n",
    "        )\n",
    "        return {'val_loss': loss.detach()}\n",
    "\n",
    "    def validation_epoch_end(self, outputs):\n",
    "        batch_losses = [x['val_loss'] for x in outputs]\n",
    "        epoch_loss = torch.stack(batch_losses).mean()\n",
    "        return {'val_loss': epoch_loss.item()}\n",
    "\n",
    "    def epoch_end(self, epoch, result, num_epochs):\n",
    "        if(epoch) % 10 == 0 or epoch == num_epochs - 1:\n",
    "            print(f\"Epoch {epoch}, val_loss: {result['val_loss']:.4f}\")\n",
    "\n",
    "model = LinearRegression().to(device)\n",
    "print(model)"
   ]
  },
  {
   "cell_type": "code",
   "execution_count": 17,
   "id": "a02607d1-1089-4289-906b-de13b0e8b24f",
   "metadata": {},
   "outputs": [],
   "source": [
    "def evaluate(model, validation_loader):\n",
    "    outputs = [model.validation_step(batch) for batch in validation_loader]\n",
    "    return model.validation_epoch_end(outputs)\n",
    "\n",
    "def fit( epochs, lr, model, training_loader, validation_loader, optimizer_function = torch.optim.SGD):\n",
    "    history = []\n",
    "    optimizer = optimizer_function(model.parameters(), lr)\n",
    "    for epoch in range(epochs):\n",
    "        for batch in training_loader:\n",
    "            loss = model.training_step(batch)\n",
    "            loss.backward()\n",
    "            optimizer.step()\n",
    "            optimizer.zero_grad()\n",
    "        \n",
    "        result = evaluate(model, validation_loader)\n",
    "        model.epoch_end(epoch, result, epochs)\n",
    "        history.append(result)\n",
    "    \n",
    "    return history"
   ]
  },
  {
   "cell_type": "markdown",
   "id": "a8166d29-a23d-462c-9328-b78115031b91",
   "metadata": {},
   "source": [
    "Loss before training"
   ]
  },
  {
   "cell_type": "code",
   "execution_count": 18,
   "id": "fb6d75c4-669f-4b29-bb85-523348201738",
   "metadata": {},
   "outputs": [
    {
     "name": "stdout",
     "output_type": "stream",
     "text": [
      "{'val_loss': 0.9282631874084473}\n"
     ]
    }
   ],
   "source": [
    "result = evaluate(model, validation_loader)\n",
    "print(result)"
   ]
  },
  {
   "cell_type": "markdown",
   "id": "fbb73581-c0c2-42da-b5e9-92d82952a7d0",
   "metadata": {},
   "source": [
    "# Do some training"
   ]
  },
  {
   "cell_type": "code",
   "execution_count": null,
   "id": "63f2a5c8-bfd6-459b-872c-a4e986fa85ad",
   "metadata": {},
   "outputs": [],
   "source": [
    "epochs = 1000\n",
    "lr = 1e-6\n",
    "history = fit(epochs, lr, model, training_loader, validation_loader)"
   ]
  },
  {
   "cell_type": "markdown",
   "id": "d4fe86f9-f8e8-42aa-9f7c-01a55ae55ed7",
   "metadata": {},
   "source": [
    "# Save the model"
   ]
  },
  {
   "cell_type": "code",
   "execution_count": 73,
   "id": "2e599239-332c-4382-a704-3ae87a26d77a",
   "metadata": {},
   "outputs": [
    {
     "name": "stdout",
     "output_type": "stream",
     "text": [
      "Saved PyTorchModel State to predict_house_prices_model.pth\n"
     ]
    }
   ],
   "source": [
    "torch.save(model.state_dict(), \"predict_house_prices_model.pth\")\n",
    "print(\"Saved PyTorchModel State to predict_house_prices_model.pth\")"
   ]
  },
  {
   "cell_type": "code",
   "execution_count": 46,
   "id": "904dea51-6e40-4679-b460-55260884ff73",
   "metadata": {},
   "outputs": [
    {
     "data": {
      "text/plain": [
       "(tensor([ 0.1068, -0.3056,  0.5740, -0.2663, -0.5919, -0.4686,  1.5632, -0.1834,\n",
       "          1.8471], device='cuda:0'),\n",
       " tensor([-0.0658], device='cuda:0'))"
      ]
     },
     "execution_count": 46,
     "metadata": {},
     "output_type": "execute_result"
    }
   ],
   "source": [
    "validation_dataset[0]"
   ]
  },
  {
   "cell_type": "code",
   "execution_count": 76,
   "id": "777ae9dd-7e02-4714-a4e9-a839b75f40bc",
   "metadata": {},
   "outputs": [
    {
     "data": {
      "text/plain": [
       "tensor([-0.1052], device='cuda:0', grad_fn=<AddBackward0>)"
      ]
     },
     "execution_count": 76,
     "metadata": {},
     "output_type": "execute_result"
    }
   ],
   "source": [
    "input, target = validation_dataset[0]\n",
    "model(input)"
   ]
  },
  {
   "cell_type": "code",
   "execution_count": 49,
   "id": "9981ee65-93b1-4914-8e1d-46b969100443",
   "metadata": {},
   "outputs": [
    {
     "data": {
      "text/plain": [
       "tensor([-0.0658], device='cuda:0')"
      ]
     },
     "execution_count": 49,
     "metadata": {},
     "output_type": "execute_result"
    }
   ],
   "source": [
    "target"
   ]
  }
 ],
 "metadata": {
  "kernelspec": {
   "display_name": "virtualenv",
   "language": "python",
   "name": "virtualenv"
  },
  "language_info": {
   "codemirror_mode": {
    "name": "ipython",
    "version": 3
   },
   "file_extension": ".py",
   "mimetype": "text/x-python",
   "name": "python",
   "nbconvert_exporter": "python",
   "pygments_lexer": "ipython3",
   "version": "3.10.11"
  }
 },
 "nbformat": 4,
 "nbformat_minor": 5
}
