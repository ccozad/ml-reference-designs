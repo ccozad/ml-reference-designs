{
 "cells": [
  {
   "cell_type": "markdown",
   "id": "e190cb0f-2e35-4501-b993-24fe74b82860",
   "metadata": {},
   "source": [
    "# Introduction\n",
    "\n",
    "Models typically need to work with numerical data so there is a need to convert string class labels to numbers. There are many different was to complete this task, several options are shown in this workbook."
   ]
  },
  {
   "cell_type": "markdown",
   "id": "084bd067-ffa5-4c5c-a6be-6a7845380c42",
   "metadata": {},
   "source": [
    "# Use the category datatype in Pandas"
   ]
  },
  {
   "cell_type": "code",
   "execution_count": 9,
   "id": "320862b6-418b-4241-87e6-b9892e35ab96",
   "metadata": {},
   "outputs": [
    {
     "name": "stdout",
     "output_type": "stream",
     "text": [
      "  State  State_Codes\n",
      "0    CA            1\n",
      "1    OR            2\n",
      "2    CA            1\n",
      "3    AZ            0\n",
      "4    WA            3\n"
     ]
    }
   ],
   "source": [
    "import pandas as pd\n",
    "\n",
    "df1 = pd.DataFrame({'State': ['CA', 'OR', 'CA', 'AZ', 'WA']})\n",
    "\n",
    "df1['State'] = df1['State'].astype('category')\n",
    "df1['State_Codes'] = df1['State'].cat.codes\n",
    "\n",
    "print(df1)"
   ]
  },
  {
   "cell_type": "markdown",
   "id": "34bc2c09-b0c2-4ccd-b395-7e1f09f20dd7",
   "metadata": {},
   "source": [
    "# Use the replace method in Pandas\n",
    "\n",
    "See https://stackoverflow.com/questions/77900971/pandas-futurewarning-downcasting-object-dtype-arrays-on-fillna-ffill-bfill for why we need run this with the option future.no_silent_downcasting"
   ]
  },
  {
   "cell_type": "code",
   "execution_count": 10,
   "id": "4b582163-67b9-4efe-bfa9-a67ac471d811",
   "metadata": {},
   "outputs": [
    {
     "name": "stdout",
     "output_type": "stream",
     "text": [
      "  State  State_Codes\n",
      "0    CA            1\n",
      "1    OR            2\n",
      "2    CA            1\n",
      "3    AZ            0\n",
      "4    WA            3\n"
     ]
    }
   ],
   "source": [
    "import pandas as pd\n",
    "\n",
    "df2 = pd.DataFrame({'State': ['CA', 'OR', 'CA', 'AZ', 'WA']})\n",
    "\n",
    "with pd.option_context(\"future.no_silent_downcasting\", True):\n",
    "    df2['State_Codes'] = df2['State'].replace({'AZ': 0, 'CA': 1, 'OR': 2, 'WA': 3}).infer_objects(copy=False)\n",
    "\n",
    "print(df2)"
   ]
  },
  {
   "cell_type": "markdown",
   "id": "e2550fe1-8dc9-435f-87cc-5e063b1ed057",
   "metadata": {},
   "source": [
    "# Use the LabelEncoder included with scikit-learn"
   ]
  },
  {
   "cell_type": "code",
   "execution_count": 11,
   "id": "1e3374c8-deb7-44dc-abb7-499018f2c9e3",
   "metadata": {},
   "outputs": [
    {
     "name": "stdout",
     "output_type": "stream",
     "text": [
      "  State  State_Codes\n",
      "0    CA            1\n",
      "1    OR            2\n",
      "2    CA            1\n",
      "3    AZ            0\n",
      "4    WA            3\n"
     ]
    }
   ],
   "source": [
    "import pandas as pd\n",
    "from sklearn.preprocessing import LabelEncoder\n",
    "\n",
    "df3 = pd.DataFrame({'State': ['CA', 'OR', 'CA', 'AZ', 'WA']})\n",
    "\n",
    "encoder = LabelEncoder()\n",
    "df3['State_Codes'] = encoder.fit_transform(df3['State'])\n",
    "\n",
    "print(df3)"
   ]
  },
  {
   "cell_type": "code",
   "execution_count": null,
   "id": "a1996e57-2ccc-4d57-bf1b-615232ca9d30",
   "metadata": {},
   "outputs": [],
   "source": []
  }
 ],
 "metadata": {
  "kernelspec": {
   "display_name": "virtualenv",
   "language": "python",
   "name": "virtualenv"
  },
  "language_info": {
   "codemirror_mode": {
    "name": "ipython",
    "version": 3
   },
   "file_extension": ".py",
   "mimetype": "text/x-python",
   "name": "python",
   "nbconvert_exporter": "python",
   "pygments_lexer": "ipython3",
   "version": "3.10.11"
  }
 },
 "nbformat": 4,
 "nbformat_minor": 5
}
