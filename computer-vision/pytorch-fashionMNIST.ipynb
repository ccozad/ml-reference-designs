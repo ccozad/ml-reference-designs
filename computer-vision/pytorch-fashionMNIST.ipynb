{
 "cells": [
  {
   "cell_type": "markdown",
   "id": "e15b246a-6ffc-4483-a852-eeccecd1d3c0",
   "metadata": {},
   "source": [
    "# Introduction\n",
    "\n",
    "In this example we'll use the Fashion MNIST dataset to do basic classification. "
   ]
  },
  {
   "cell_type": "markdown",
   "id": "b72d7efb-5084-4f5e-9990-0d6fad15a600",
   "metadata": {},
   "source": [
    "# Dependencies"
   ]
  },
  {
   "cell_type": "code",
   "execution_count": 7,
   "id": "08c984fc-d2d0-4b59-98d0-0ac03d1e128c",
   "metadata": {},
   "outputs": [],
   "source": [
    "import torch\n",
    "from torch import nn\n",
    "from torch.utils.data import DataLoader\n",
    "from torchvision import datasets\n",
    "from torchvision.transforms import ToTensor"
   ]
  },
  {
   "cell_type": "markdown",
   "id": "6ee41f21-ce45-4cc8-ad55-e9c50e4a1096",
   "metadata": {},
   "source": [
    "# Load datasets"
   ]
  },
  {
   "cell_type": "code",
   "execution_count": 8,
   "id": "45a4a26e-4d10-4e00-9841-a03d53e76699",
   "metadata": {
    "scrolled": true
   },
   "outputs": [
    {
     "name": "stdout",
     "output_type": "stream",
     "text": [
      "Downloading http://fashion-mnist.s3-website.eu-central-1.amazonaws.com/train-images-idx3-ubyte.gz\n",
      "Downloading http://fashion-mnist.s3-website.eu-central-1.amazonaws.com/train-images-idx3-ubyte.gz to data\\FashionMNIST\\raw\\train-images-idx3-ubyte.gz\n"
     ]
    },
    {
     "name": "stderr",
     "output_type": "stream",
     "text": [
      "100.0%\n"
     ]
    },
    {
     "name": "stdout",
     "output_type": "stream",
     "text": [
      "Extracting data\\FashionMNIST\\raw\\train-images-idx3-ubyte.gz to data\\FashionMNIST\\raw\n",
      "\n",
      "Downloading http://fashion-mnist.s3-website.eu-central-1.amazonaws.com/train-labels-idx1-ubyte.gz\n",
      "Downloading http://fashion-mnist.s3-website.eu-central-1.amazonaws.com/train-labels-idx1-ubyte.gz to data\\FashionMNIST\\raw\\train-labels-idx1-ubyte.gz\n"
     ]
    },
    {
     "name": "stderr",
     "output_type": "stream",
     "text": [
      "100.0%\n"
     ]
    },
    {
     "name": "stdout",
     "output_type": "stream",
     "text": [
      "Extracting data\\FashionMNIST\\raw\\train-labels-idx1-ubyte.gz to data\\FashionMNIST\\raw\n",
      "\n",
      "Downloading http://fashion-mnist.s3-website.eu-central-1.amazonaws.com/t10k-images-idx3-ubyte.gz\n",
      "Downloading http://fashion-mnist.s3-website.eu-central-1.amazonaws.com/t10k-images-idx3-ubyte.gz to data\\FashionMNIST\\raw\\t10k-images-idx3-ubyte.gz\n"
     ]
    },
    {
     "name": "stderr",
     "output_type": "stream",
     "text": [
      "100.0%\n"
     ]
    },
    {
     "name": "stdout",
     "output_type": "stream",
     "text": [
      "Extracting data\\FashionMNIST\\raw\\t10k-images-idx3-ubyte.gz to data\\FashionMNIST\\raw\n",
      "\n",
      "Downloading http://fashion-mnist.s3-website.eu-central-1.amazonaws.com/t10k-labels-idx1-ubyte.gz\n",
      "Downloading http://fashion-mnist.s3-website.eu-central-1.amazonaws.com/t10k-labels-idx1-ubyte.gz to data\\FashionMNIST\\raw\\t10k-labels-idx1-ubyte.gz\n"
     ]
    },
    {
     "name": "stderr",
     "output_type": "stream",
     "text": [
      "100.0%"
     ]
    },
    {
     "name": "stdout",
     "output_type": "stream",
     "text": [
      "Extracting data\\FashionMNIST\\raw\\t10k-labels-idx1-ubyte.gz to data\\FashionMNIST\\raw\n",
      "\n"
     ]
    },
    {
     "name": "stderr",
     "output_type": "stream",
     "text": [
      "\n"
     ]
    }
   ],
   "source": [
    "training_data = datasets.FashionMNIST(\n",
    "    root=\"data\",\n",
    "    train=True,\n",
    "    download=True,\n",
    "    transform=ToTensor(),\n",
    ")\n",
    "\n",
    "test_data = datasets.FashionMNIST(\n",
    "    root=\"data\",\n",
    "    train=False,\n",
    "    download=True,\n",
    "    transform=ToTensor(),\n",
    ")"
   ]
  },
  {
   "cell_type": "markdown",
   "id": "52fae3f0-4988-48f3-81ed-fb1b0105f5c7",
   "metadata": {},
   "source": [
    "Use data loaders to iterate over the data"
   ]
  },
  {
   "cell_type": "code",
   "execution_count": 9,
   "id": "9fa9c1aa-f67c-4ed3-b55a-180d42a12e66",
   "metadata": {},
   "outputs": [
    {
     "name": "stdout",
     "output_type": "stream",
     "text": [
      "Shape of X [N, C, H, W]: torch.Size([64, 1, 28, 28])\n",
      "Shape of y: torch.Size([64]) torch.int64\n"
     ]
    }
   ],
   "source": [
    "batch_size = 64\n",
    "\n",
    "train_dataloader = DataLoader(training_data, batch_size = batch_size)\n",
    "test_dataloader = DataLoader(test_data, batch_size = batch_size)\n",
    "\n",
    "for X, y in test_dataloader:\n",
    "    print(f\"Shape of X [N, C, H, W]: {X.shape}\")\n",
    "    print(f\"Shape of y: {y.shape} {y.dtype}\")\n",
    "    break"
   ]
  },
  {
   "cell_type": "markdown",
   "id": "18d720a8-cd52-4cad-b5ca-9e9875a81c3f",
   "metadata": {},
   "source": [
    "# Create the model"
   ]
  },
  {
   "cell_type": "code",
   "execution_count": 13,
   "id": "d8d3ebde-30d9-410e-9d36-1855a705a398",
   "metadata": {},
   "outputs": [
    {
     "name": "stdout",
     "output_type": "stream",
     "text": [
      "Using device cuda\n",
      "NeuralNetwork(\n",
      "  (flatten): Flatten(start_dim=1, end_dim=-1)\n",
      "  (linear_relu_stack): Sequential(\n",
      "    (0): Linear(in_features=784, out_features=512, bias=True)\n",
      "    (1): ReLU()\n",
      "    (2): Linear(in_features=512, out_features=512, bias=True)\n",
      "    (3): ReLU()\n",
      "    (4): Linear(in_features=512, out_features=10, bias=True)\n",
      "  )\n",
      ")\n"
     ]
    }
   ],
   "source": [
    "device = \"cpu\"\n",
    "if torch.cuda.is_available():\n",
    "    device = \"cuda\"\n",
    "elif torch.backends.mps.is_available():\n",
    "    device = \"mps\"\n",
    "\n",
    "print(f\"Using device {device}\")\n",
    "\n",
    "class NeuralNetwork(nn.Module):\n",
    "    def __init__(self):\n",
    "        super().__init__()\n",
    "        self.flatten = nn.Flatten()\n",
    "        self.linear_relu_stack = nn.Sequential(\n",
    "            nn.Linear(28 * 28, 512),\n",
    "            nn.ReLU(),\n",
    "            nn.Linear(512, 512),\n",
    "            nn.ReLU(),\n",
    "            nn.Linear(512, 10)\n",
    "        )\n",
    "\n",
    "    def forward(self, x):\n",
    "        x = self.flatten(x)\n",
    "        logits = self.linear_relu_stack(x)\n",
    "        return logits\n",
    "\n",
    "model = NeuralNetwork().to(device)\n",
    "print(model)"
   ]
  },
  {
   "cell_type": "markdown",
   "id": "597b0960-8643-4f95-91ad-781b6dc2a650",
   "metadata": {},
   "source": [
    "# Train the model"
   ]
  },
  {
   "cell_type": "code",
   "execution_count": 15,
   "id": "13f8547a-c785-47c7-90b4-bacad41f5415",
   "metadata": {},
   "outputs": [],
   "source": [
    "loss_fn = nn.CrossEntropyLoss()\n",
    "optimizer = torch.optim.SGD(model.parameters(), lr=1e-3)\n",
    "\n",
    "def train(dataloader, model, loss_fn, optimizer):\n",
    "    size = len(dataloader.dataset)\n",
    "    model.train()\n",
    "    for batch, (X,y) in enumerate(dataloader):\n",
    "        X, y = X.to(device), y.to(device)\n",
    "\n",
    "        # Compute prediction error\n",
    "        pred = model(X)\n",
    "        loss = loss_fn(pred, y)\n",
    "\n",
    "        #Back propagation\n",
    "        loss.backward()\n",
    "        optimizer.step()\n",
    "        optimizer.zero_grad()\n",
    "\n",
    "        if batch % 100 == 0:\n",
    "            loss, current = loss.item(), (batch + 1) * len(X)\n",
    "            print(f\"loss: {loss:>7f} [{current:>5d}/{size:>5d}]\")\n",
    "\n",
    "def test(dataloader, model, loss_fn):\n",
    "    size = len(dataloader.dataset)\n",
    "    num_batches = len(dataloader)\n",
    "    model.eval()\n",
    "    test_loss, correct = 0, 0\n",
    "    with torch.no_grad():\n",
    "        for X, y in dataloader:\n",
    "            X, y = X.to(device), y.to(device)\n",
    "            pred = model(X)\n",
    "            test_loss += loss_fn(pred, y).item()\n",
    "            correct += (pred.argmax(1) == y).type(torch.float).sum().item()\n",
    "    test_loss /= num_batches\n",
    "    correct /= size\n",
    "    print(f\"Test Error: \\nAccuracy: {(100*correct):>0.1f}%, Avg loss: {test_loss:>8f} \\n\")"
   ]
  },
  {
   "cell_type": "markdown",
   "id": "c7ad0a87-7841-4671-87a9-df2dca69eb1d",
   "metadata": {},
   "source": [
    "Run some training rounds"
   ]
  },
  {
   "cell_type": "code",
   "execution_count": 17,
   "id": "3b4c5b9b-e759-4eab-a40f-bec7f1d1e4f8",
   "metadata": {},
   "outputs": [
    {
     "name": "stdout",
     "output_type": "stream",
     "text": [
      "Epoch 1\n",
      "---------------------\n",
      "loss: 2.306046 [   64/60000]\n",
      "loss: 2.299242 [ 6464/60000]\n",
      "loss: 2.279033 [12864/60000]\n",
      "loss: 2.266370 [19264/60000]\n",
      "loss: 2.256443 [25664/60000]\n",
      "loss: 2.225756 [32064/60000]\n",
      "loss: 2.230556 [38464/60000]\n",
      "loss: 2.197742 [44864/60000]\n",
      "loss: 2.193237 [51264/60000]\n",
      "loss: 2.168344 [57664/60000]\n",
      "Test Error: \n",
      "Accuracy: 43.7%, Avg loss: 2.159248 \n",
      "\n",
      "Epoch 2\n",
      "---------------------\n",
      "loss: 2.168950 [   64/60000]\n",
      "loss: 2.163776 [ 6464/60000]\n",
      "loss: 2.111214 [12864/60000]\n",
      "loss: 2.119399 [19264/60000]\n",
      "loss: 2.073436 [25664/60000]\n",
      "loss: 2.010857 [32064/60000]\n",
      "loss: 2.043927 [38464/60000]\n",
      "loss: 1.958781 [44864/60000]\n",
      "loss: 1.965903 [51264/60000]\n",
      "loss: 1.902760 [57664/60000]\n",
      "Test Error: \n",
      "Accuracy: 54.9%, Avg loss: 1.897413 \n",
      "\n",
      "Epoch 3\n",
      "---------------------\n",
      "loss: 1.928336 [   64/60000]\n",
      "loss: 1.904017 [ 6464/60000]\n",
      "loss: 1.792589 [12864/60000]\n",
      "loss: 1.824909 [19264/60000]\n",
      "loss: 1.717771 [25664/60000]\n",
      "loss: 1.662383 [32064/60000]\n",
      "loss: 1.696005 [38464/60000]\n",
      "loss: 1.584957 [44864/60000]\n",
      "loss: 1.617442 [51264/60000]\n",
      "loss: 1.515814 [57664/60000]\n",
      "Test Error: \n",
      "Accuracy: 59.5%, Avg loss: 1.529086 \n",
      "\n",
      "Epoch 4\n",
      "---------------------\n",
      "loss: 1.594786 [   64/60000]\n",
      "loss: 1.566217 [ 6464/60000]\n",
      "loss: 1.419802 [12864/60000]\n",
      "loss: 1.479199 [19264/60000]\n",
      "loss: 1.362093 [25664/60000]\n",
      "loss: 1.353395 [32064/60000]\n",
      "loss: 1.379813 [38464/60000]\n",
      "loss: 1.293090 [44864/60000]\n",
      "loss: 1.333748 [51264/60000]\n",
      "loss: 1.236341 [57664/60000]\n",
      "Test Error: \n",
      "Accuracy: 62.7%, Avg loss: 1.256736 \n",
      "\n",
      "Epoch 5\n",
      "---------------------\n",
      "loss: 1.334016 [   64/60000]\n",
      "loss: 1.320374 [ 6464/60000]\n",
      "loss: 1.157159 [12864/60000]\n",
      "loss: 1.249204 [19264/60000]\n",
      "loss: 1.128659 [25664/60000]\n",
      "loss: 1.148229 [32064/60000]\n",
      "loss: 1.180944 [38464/60000]\n",
      "loss: 1.109688 [44864/60000]\n",
      "loss: 1.154123 [51264/60000]\n",
      "loss: 1.069801 [57664/60000]\n",
      "Test Error: \n",
      "Accuracy: 64.6%, Avg loss: 1.085200 \n",
      "\n",
      "Done!\n"
     ]
    }
   ],
   "source": [
    "epochs = 5\n",
    "for t in range(epochs):\n",
    "    print(f\"Epoch {t+1}\\n---------------------\")\n",
    "    train(train_dataloader, model, loss_fn, optimizer)\n",
    "    test(test_dataloader, model, loss_fn)\n",
    "print(\"Done!\")"
   ]
  },
  {
   "cell_type": "markdown",
   "id": "da3b0764-286e-428e-a8e9-a7e0b060a0f3",
   "metadata": {},
   "source": [
    "# Save the model"
   ]
  },
  {
   "cell_type": "code",
   "execution_count": 19,
   "id": "b3214184-a46a-4e4c-94fa-004748f16705",
   "metadata": {},
   "outputs": [
    {
     "name": "stdout",
     "output_type": "stream",
     "text": [
      "Saved PyTorchModel State to fashion_mnist_model.pth\n"
     ]
    }
   ],
   "source": [
    "torch.save(model.state_dict(), \"fashion_mnist_model.pth\")\n",
    "print(\"Saved PyTorchModel State to fashion_mnist_model.pth\")"
   ]
  },
  {
   "cell_type": "markdown",
   "id": "6506f0f4-4639-483e-9334-6b8e09237df1",
   "metadata": {},
   "source": [
    "# Load the model"
   ]
  },
  {
   "cell_type": "code",
   "execution_count": 21,
   "id": "e42b5227-7e22-4b89-a9fa-b85e17c0ddda",
   "metadata": {},
   "outputs": [
    {
     "data": {
      "text/plain": [
       "<All keys matched successfully>"
      ]
     },
     "execution_count": 21,
     "metadata": {},
     "output_type": "execute_result"
    }
   ],
   "source": [
    "stored_model = NeuralNetwork().to(device)\n",
    "stored_model.load_state_dict(torch.load(\"fashion_mnist_model.pth\"))"
   ]
  },
  {
   "cell_type": "markdown",
   "id": "903bde06-1237-42c2-8a6c-dd93edb74854",
   "metadata": {},
   "source": [
    "Try the stored model"
   ]
  },
  {
   "cell_type": "code",
   "execution_count": 24,
   "id": "dc5d9d8c-491f-4fe9-bd40-fe8562f3a299",
   "metadata": {},
   "outputs": [
    {
     "name": "stdout",
     "output_type": "stream",
     "text": [
      "tensor([[-1.9974, -2.7303, -0.8475, -2.0943, -1.1892,  2.3736, -1.0032,  2.6973,\n",
      "          1.6911,  3.0828]], device='cuda:0')\n",
      "Predicted: \"ankle boot\", Actual: \"ankle boot\"\n"
     ]
    }
   ],
   "source": [
    "classes = [\n",
    "    \"t-shirt\",\n",
    "    \"pants\",\n",
    "    \"pullover\",\n",
    "    \"dress\",\n",
    "    \"coat\",\n",
    "    \"sandal\",\n",
    "    \"shirt\",\n",
    "    \"sneaker\",\n",
    "    \"bag\",\n",
    "    \"ankle boot\",\n",
    "]\n",
    "\n",
    "stored_model.eval()\n",
    "x,y = test_data[0][0], test_data[0][1]\n",
    "with torch.no_grad():\n",
    "    x = x.to(device)\n",
    "    pred = model(x)\n",
    "    print(f\"{pred}\")\n",
    "    predicted, actual = classes[pred[0].argmax(0)], classes[y]\n",
    "    print(f'Predicted: \"{predicted}\", Actual: \"{actual}\"')"
   ]
  },
  {
   "cell_type": "code",
   "execution_count": null,
   "id": "c45d3f1e-de95-43a5-9ad5-a1ee21cdf6d9",
   "metadata": {},
   "outputs": [],
   "source": []
  }
 ],
 "metadata": {
  "kernelspec": {
   "display_name": "virtualenv",
   "language": "python",
   "name": "virtualenv"
  },
  "language_info": {
   "codemirror_mode": {
    "name": "ipython",
    "version": 3
   },
   "file_extension": ".py",
   "mimetype": "text/x-python",
   "name": "python",
   "nbconvert_exporter": "python",
   "pygments_lexer": "ipython3",
   "version": "3.10.11"
  }
 },
 "nbformat": 4,
 "nbformat_minor": 5
}
