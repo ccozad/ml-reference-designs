{
 "cells": [
  {
   "cell_type": "markdown",
   "id": "47ecfe50-3396-4462-a759-e6af869b09c9",
   "metadata": {},
   "source": [
    "# Introduction\n",
    "\n",
    "MNIST is an image collection with images of hand written digits with labels. PyTorch provides a wrapper for easy download in experiments"
   ]
  },
  {
   "cell_type": "markdown",
   "id": "a51308cb-0170-4979-87c4-0af72640eb3a",
   "metadata": {},
   "source": [
    "# Data Loader\n",
    "\n",
    "We explicitly download data with a method instead of in the constructor for more intentional download of a large dataset."
   ]
  },
  {
   "cell_type": "code",
   "execution_count": 10,
   "id": "b88b67b2-cb74-4d63-9c24-c7631f756855",
   "metadata": {},
   "outputs": [],
   "source": [
    "import torch\n",
    "import torchvision\n",
    "\n",
    "# Classic dataset with images of hand written digits\n",
    "class MnistData():\n",
    "    def __init__(self, batch_size = 32):\n",
    "        self.transforms = torchvision.transforms.Compose([\n",
    "            torchvision.transforms.ToTensor()\n",
    "        ])\n",
    "        self.batch_size = batch_size\n",
    "        self.training = None\n",
    "        self.validation = None\n",
    "\n",
    "    def download(self, root):\n",
    "        self.training = torchvision.datasets.MNIST(\n",
    "            root=root,\n",
    "            transform=self.transforms,\n",
    "            train=True,\n",
    "            download=True)\n",
    "        self.validation = torchvision.datasets.MNIST(\n",
    "            root=root,\n",
    "            transform=self.transforms,\n",
    "            train=False,\n",
    "            download=True)\n",
    "\n",
    "    def get_dataloader(self, train):\n",
    "        if train:\n",
    "            data = self.training\n",
    "        else:\n",
    "            data = self.validation\n",
    "\n",
    "        return torch.utils.data.DataLoader(data, self.batch_size, \n",
    "                                      shuffle=train,\n",
    "                                      num_workers=4)\n",
    "    \n",
    "    def training_dataloader(self):\n",
    "        return self.get_dataloader(train=True)\n",
    "\n",
    "    def validation_dataloader(self):\n",
    "        return self.get_dataloader(train=False)"
   ]
  },
  {
   "cell_type": "code",
   "execution_count": 11,
   "id": "4d220a67-09de-4520-8faa-19fa4e9f5c03",
   "metadata": {},
   "outputs": [
    {
     "name": "stdout",
     "output_type": "stream",
     "text": [
      "Training size: 60000\n",
      "Validation size: 10000\n"
     ]
    }
   ],
   "source": [
    "data = MnistData()\n",
    "data.download(root=\"./data\")\n",
    "print(f\"Training size: {len(data.training)}\")\n",
    "print(f\"Validation size: {len(data.validation)}\")"
   ]
  },
  {
   "cell_type": "code",
   "execution_count": 12,
   "id": "625379b0-0735-4610-914a-34b96c1de546",
   "metadata": {},
   "outputs": [
    {
     "data": {
      "text/plain": [
       "torch.Size([1, 28, 28])"
      ]
     },
     "execution_count": 12,
     "metadata": {},
     "output_type": "execute_result"
    }
   ],
   "source": [
    "data.training[0][0].shape"
   ]
  },
  {
   "cell_type": "code",
   "execution_count": 14,
   "id": "d94ee27c-2ae4-4fda-adb8-b229d1b61b23",
   "metadata": {},
   "outputs": [
    {
     "name": "stdout",
     "output_type": "stream",
     "text": [
      "X shape: torch.Size([32, 1, 28, 28]), X type: torch.float32\n",
      "y shape: torch.Size([32]), y type: torch.int64\n"
     ]
    }
   ],
   "source": [
    "X,y = next(iter(data.training_dataloader()))\n",
    "print(f\"X shape: {X.shape}, X type: {X.dtype}\")\n",
    "print(f\"y shape: {y.shape}, y type: {y.dtype}\")"
   ]
  },
  {
   "cell_type": "code",
   "execution_count": 15,
   "id": "9bfdfa2a-b92c-4727-8d38-d5e1d6547d76",
   "metadata": {},
   "outputs": [
    {
     "name": "stdout",
     "output_type": "stream",
     "text": [
      "['0 - zero', '1 - one', '2 - two', '3 - three', '4 - four', '5 - five', '6 - six', '7 - seven', '8 - eight', '9 - nine']\n"
     ]
    }
   ],
   "source": [
    "print(data.training.classes)"
   ]
  },
  {
   "cell_type": "code",
   "execution_count": 19,
   "id": "8efabfb9-73dc-41bb-8297-31a54ba5e627",
   "metadata": {},
   "outputs": [
    {
     "data": {
      "text/plain": [
       "{'0 - zero': 0,\n",
       " '1 - one': 1,\n",
       " '2 - two': 2,\n",
       " '3 - three': 3,\n",
       " '4 - four': 4,\n",
       " '5 - five': 5,\n",
       " '6 - six': 6,\n",
       " '7 - seven': 7,\n",
       " '8 - eight': 8,\n",
       " '9 - nine': 9}"
      ]
     },
     "execution_count": 19,
     "metadata": {},
     "output_type": "execute_result"
    }
   ],
   "source": [
    "data.training.class_to_idx"
   ]
  },
  {
   "cell_type": "code",
   "execution_count": null,
   "id": "5e62531f-fcf0-48a1-8c9f-a19180da61ac",
   "metadata": {},
   "outputs": [],
   "source": []
  }
 ],
 "metadata": {
  "kernelspec": {
   "display_name": "virtualenv",
   "language": "python",
   "name": "virtualenv"
  },
  "language_info": {
   "codemirror_mode": {
    "name": "ipython",
    "version": 3
   },
   "file_extension": ".py",
   "mimetype": "text/x-python",
   "name": "python",
   "nbconvert_exporter": "python",
   "pygments_lexer": "ipython3",
   "version": "3.10.11"
  }
 },
 "nbformat": 4,
 "nbformat_minor": 5
}
