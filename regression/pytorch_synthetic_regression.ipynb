{
 "cells": [
  {
   "cell_type": "markdown",
   "id": "e844f6b0-e642-40d7-8862-5c4a5c3b1ac4",
   "metadata": {},
   "source": [
    "# Introduction\n",
    "\n",
    "Real world datasets have surprises in them such as missing data, outliers, and data entry errors. Code you create to analyze this data has its own set of surprises such as logical errors, syntax errors and conceptual errors. In the interest of progress it can be helpful to reduce variables to just your code before introducing additional complexity. In this example we will generate a synthetic dataset and form a base regression model for the task.\n",
    "\n",
    "Based on the approach described in https://d2l.ai/chapter_linear-regression/synthetic-regression-data.html"
   ]
  },
  {
   "cell_type": "markdown",
   "id": "28b3c8fd-18d3-4f38-bbfc-16a0ad6f1033",
   "metadata": {},
   "source": [
    "# Generating Data\n",
    "\n",
    "We'll generate data from a pure linear function and then pollute the data with noise."
   ]
  },
  {
   "cell_type": "code",
   "execution_count": 1,
   "id": "08df8a7f-6e9d-4595-87f2-54649f38784a",
   "metadata": {},
   "outputs": [],
   "source": [
    "import torch\n",
    "import random\n",
    "\n",
    "# y = Xw + b + noise\n",
    "class SyntheticRegressionData():\n",
    "    def __init__(self, w, b, noise=0.1, training_count = 1000, validation_count = 1000, batch_size = 32):\n",
    "        self.w = w\n",
    "        self.b = b\n",
    "        self.batch_size = batch_size\n",
    "        self.training_count = training_count\n",
    "        self.validation_count = validation_count\n",
    "        self.observation_count = training_count + validation_count\n",
    "        self.X = torch.randn(self.observation_count, len(w))\n",
    "        noise = torch.randn(self.observation_count, 1) * noise\n",
    "        self.y = torch.matmul(self.X, w.reshape((-1, 1))) + b + noise\n",
    "\n",
    "    def get_tensorloader(self, tensors, train, indices=slice(0, None)):\n",
    "        tensors = tuple(a[indices] for a in tensors)\n",
    "        dataset = torch.utils.data.TensorDataset(*tensors)\n",
    "        return torch.utils.data.DataLoader(dataset, self.batch_size, shuffle=train)\n",
    "    \n",
    "    def get_dataloader(self, train):\n",
    "        if train:\n",
    "            # Training data is in the front of the dataset\n",
    "            i = slice(0, self.training_count)\n",
    "        else:\n",
    "            # Validation data is at the end of the dataset\n",
    "            i = slice(self.training_count, None)\n",
    "        return self.get_tensorloader((self.X, self.y), train, i)\n",
    "    \n",
    "    def training_dataloader(self):\n",
    "        return self.get_dataloader(train=True)\n",
    "\n",
    "    def validation_dataloader(self):\n",
    "        return self.get_dataloader(train=False)\n",
    "        "
   ]
  },
  {
   "cell_type": "code",
   "execution_count": 2,
   "id": "b5add6ad-d466-43d3-829e-ac1bbd70e497",
   "metadata": {},
   "outputs": [
    {
     "name": "stdout",
     "output_type": "stream",
     "text": [
      "Features: tensor([ 1.6024, -0.4316])\n",
      "Label: tensor([11.9688])\n"
     ]
    }
   ],
   "source": [
    "# Try our new class\n",
    "data = SyntheticRegressionData(w=torch.tensor([5, -2.1]), b=3.1)\n",
    "print(f\"Features: {data.X[0]}\")\n",
    "print(f\"Label: {data.y[0]}\")"
   ]
  },
  {
   "cell_type": "code",
   "execution_count": 3,
   "id": "16cc2094-7c3a-436a-8bad-a4ed8c33c225",
   "metadata": {},
   "outputs": [
    {
     "name": "stdout",
     "output_type": "stream",
     "text": [
      "X shape: torch.Size([32, 2])\n",
      "y shape: torch.Size([32, 1])\n"
     ]
    }
   ],
   "source": [
    "# Try out the training dataloader\n",
    "X, y = next(iter(data.training_dataloader()))\n",
    "print(f\"X shape: {X.shape}\")\n",
    "print(f\"y shape: {y.shape}\")"
   ]
  },
  {
   "cell_type": "markdown",
   "id": "3330130e-8990-4eb8-bd27-f04c15e1f1fa",
   "metadata": {},
   "source": [
    "# Define the Optimizer (From Scratch)\n",
    "\n",
    "As descibed in the article d2l.ai, we'll use mini-batch stochastic gradient descent for our optimizer"
   ]
  },
  {
   "cell_type": "code",
   "execution_count": 4,
   "id": "f4ef0752-709b-41cc-bbf0-08647b857545",
   "metadata": {},
   "outputs": [],
   "source": [
    "class SGD():\n",
    "    def __init__(self, params, learning_rate):\n",
    "        self.params = params\n",
    "        self.learning_rate = learning_rate\n",
    "\n",
    "    def step(self):\n",
    "        for param in self.params:\n",
    "            param -= self.learning_rate * param.grad\n",
    "\n",
    "    def zero_grad(self):\n",
    "        for param in self.params:\n",
    "            if param.grad is not None:\n",
    "                param.grad.zero_()"
   ]
  },
  {
   "cell_type": "markdown",
   "id": "631bc58f-0180-4e24-b3c2-f4434ddcfffb",
   "metadata": {},
   "source": [
    "# Define the Model (From Scratch)\n",
    "\n",
    "We'll use only primitives for the first model and then we'll reimplement using more features in the Torch framework"
   ]
  },
  {
   "cell_type": "code",
   "execution_count": 5,
   "id": "103179b8-f6fa-4733-b601-9af72e1f209b",
   "metadata": {},
   "outputs": [],
   "source": [
    "from torch import nn\n",
    "\n",
    "class LinearRegressionV1(torch.nn.Module):\n",
    "    def __init__(self, input_count, learning_rate, sigma=0.01):\n",
    "        super().__init__()\n",
    "        self.learning_rate = learning_rate\n",
    "        # Draw data from the normal distribution centered at 0\n",
    "        # with standard deviation sigma\n",
    "        self.w = torch.normal(0, sigma, (input_count, 1), requires_grad=True)\n",
    "        self.b = torch.zeros(1, requires_grad=True)\n",
    "\n",
    "    def forward(self, X):\n",
    "        # y = Xw + b\n",
    "        return torch.matmul(X, self.w) + self.b\n",
    "\n",
    "    def loss(self, y_predicted, y):\n",
    "        # We use the squared loss function\n",
    "        l = ((y_predicted - y) ** 2) / 2\n",
    "        return l.mean()\n",
    "\n",
    "    def training_step(self, batch):\n",
    "        l = self.loss(self(*batch[:-1]), batch[-1])\n",
    "        return l\n",
    "\n",
    "    def validation_step(self, batch):\n",
    "        l = self.loss(self(*batch[:-1]), batch[-1])\n",
    "        return l\n",
    "\n",
    "    def configure_optimizers(self):\n",
    "        return SGD([self.w, self.b], self.learning_rate)\n",
    "        "
   ]
  },
  {
   "cell_type": "markdown",
   "id": "9de476df-51d9-4144-9cf0-973bf4f66900",
   "metadata": {},
   "source": [
    "# Training\n",
    "\n",
    "In each epoch, we process an iteration of a random batch of data. We continue processing iterations until all data has been seen.\n",
    "\n",
    "For each iteration we do the following\n",
    " 1. Grab a batch of training samples\n",
    " 2. Compute the loss\n",
    " 3. Compute the gradient on where to move next\n",
    " 4. Update the model parameters"
   ]
  },
  {
   "cell_type": "code",
   "execution_count": 6,
   "id": "b4792915-f4cf-4b9c-970f-a91ecba1cd45",
   "metadata": {},
   "outputs": [],
   "source": [
    "class MiniBatchTrainer():\n",
    "    def __init__(self, max_epochs):\n",
    "        self.max_epochs = max_epochs\n",
    "\n",
    "    def prepare_data(self, data):\n",
    "        self.training_dataloader = data.training_dataloader()\n",
    "        self.validation_dataloader = data.validation_dataloader()\n",
    "        self.training_batch_count = len(self.training_dataloader)\n",
    "        self.validation_batch_count = len(self.validation_dataloader)\n",
    "\n",
    "    def prepare_model(self, data):\n",
    "        model.trainer = self\n",
    "        self.model = model\n",
    "\n",
    "    def fit_epoch(self, _callback = None):\n",
    "        self.model.train()\n",
    "        for batch in self.training_dataloader:\n",
    "            loss = self.model.training_step(batch)\n",
    "            if _callback:\n",
    "                _callback(\"training loss\", loss)\n",
    "            self.optimizer.zero_grad()\n",
    "            with torch.no_grad():\n",
    "                loss.backward()\n",
    "                self.optimizer.step()\n",
    "                \n",
    "            self.training_batch_index += 1\n",
    "\n",
    "        self.model.eval()\n",
    "        for batch in self.validation_dataloader:\n",
    "            with torch.no_grad():\n",
    "                loss = self.model.validation_step(batch)\n",
    "                if _callback:\n",
    "                    _callback(\"validation loss\", loss)\n",
    "            self.validation_batch_index +=1\n",
    "    \n",
    "    def fit(self, model, data, _callback = None):\n",
    "        self.prepare_data(data)\n",
    "        self.prepare_model(model)\n",
    "        self.optimizer = model.configure_optimizers()\n",
    "        self.epoch = 0\n",
    "        self.training_batch_index = 0\n",
    "        self.validation_batch_index = 0\n",
    "        for self.epoch in range(self.max_epochs):\n",
    "            _callback(\"epoch\", self.epoch)\n",
    "            self.fit_epoch(_callback)"
   ]
  },
  {
   "cell_type": "markdown",
   "id": "8e89680b-06aa-452a-b261-fa01d1d0d0d8",
   "metadata": {},
   "source": [
    "# All Together\n",
    "\n",
    "We'll bring it all together to declare the model, generate synthetic data and train the model."
   ]
  },
  {
   "cell_type": "code",
   "execution_count": 7,
   "id": "8466a878-7655-4f1a-a725-d380eefa995f",
   "metadata": {},
   "outputs": [
    {
     "name": "stdout",
     "output_type": "stream",
     "text": [
      "epoch: 0\n",
      "training loss: 22.99555015563965\n",
      "training loss: 17.691625595092773\n",
      "training loss: 16.753314971923828\n",
      "training loss: 21.867164611816406\n",
      "training loss: 18.695274353027344\n",
      "training loss: 9.408775329589844\n",
      "training loss: 10.600300788879395\n",
      "training loss: 13.083674430847168\n",
      "validation loss: 8.337923049926758\n",
      "validation loss: 11.775568008422852\n",
      "epoch: 1\n",
      "training loss: 11.873462677001953\n",
      "training loss: 9.059558868408203\n",
      "training loss: 12.04800033569336\n",
      "training loss: 8.084768295288086\n",
      "training loss: 10.337409019470215\n",
      "training loss: 9.060818672180176\n",
      "training loss: 8.499825477600098\n",
      "training loss: 9.792357444763184\n",
      "validation loss: 4.993284225463867\n",
      "validation loss: 7.082032680511475\n",
      "epoch: 2\n",
      "training loss: 6.207742214202881\n",
      "training loss: 6.747061729431152\n",
      "training loss: 7.571684837341309\n",
      "training loss: 7.4557085037231445\n",
      "training loss: 5.543828964233398\n",
      "training loss: 4.577333450317383\n",
      "training loss: 6.803302764892578\n",
      "training loss: 2.4466588497161865\n",
      "validation loss: 2.9877898693084717\n",
      "validation loss: 4.260689735412598\n",
      "epoch: 3\n",
      "training loss: 3.7496109008789062\n",
      "training loss: 4.2788615226745605\n",
      "training loss: 5.033257961273193\n",
      "training loss: 3.8514392375946045\n",
      "training loss: 4.01197624206543\n",
      "training loss: 1.7101978063583374\n",
      "training loss: 2.6953277587890625\n",
      "training loss: 3.141514778137207\n",
      "validation loss: 1.7860713005065918\n",
      "validation loss: 2.5648741722106934\n",
      "epoch: 4\n",
      "training loss: 2.337230682373047\n",
      "training loss: 2.8317556381225586\n",
      "training loss: 2.2595245838165283\n",
      "training loss: 1.718000054359436\n",
      "training loss: 1.606710433959961\n",
      "training loss: 2.40657114982605\n",
      "training loss: 2.0864083766937256\n",
      "training loss: 1.8772506713867188\n",
      "validation loss: 1.066768765449524\n",
      "validation loss: 1.5454342365264893\n",
      "epoch: 5\n",
      "training loss: 1.6891579627990723\n",
      "training loss: 1.248508095741272\n",
      "training loss: 1.534860372543335\n",
      "training loss: 1.3500930070877075\n",
      "training loss: 0.8167747259140015\n",
      "training loss: 1.4665604829788208\n",
      "training loss: 0.96748286485672\n",
      "training loss: 1.230772852897644\n",
      "validation loss: 0.6362625360488892\n",
      "validation loss: 0.9321670532226562\n",
      "epoch: 6\n",
      "training loss: 0.6776748895645142\n",
      "training loss: 0.9410880208015442\n",
      "training loss: 0.869644820690155\n",
      "training loss: 0.6470990180969238\n",
      "training loss: 0.822903037071228\n",
      "training loss: 0.7735778093338013\n",
      "training loss: 0.6215161681175232\n",
      "training loss: 0.8532934784889221\n",
      "validation loss: 0.37907499074935913\n",
      "validation loss: 0.5631909370422363\n",
      "epoch: 7\n",
      "training loss: 0.6383823156356812\n",
      "training loss: 0.30928677320480347\n",
      "training loss: 0.5383355617523193\n",
      "training loss: 0.5290052890777588\n",
      "training loss: 0.5002113580703735\n",
      "training loss: 0.4982829689979553\n",
      "training loss: 0.43225425481796265\n",
      "training loss: 0.29924023151397705\n",
      "validation loss: 0.22580349445343018\n",
      "validation loss: 0.34132081270217896\n",
      "epoch: 8\n",
      "training loss: 0.1676514893770218\n",
      "training loss: 0.28498655557632446\n",
      "training loss: 0.4283122718334198\n",
      "training loss: 0.2692432701587677\n",
      "training loss: 0.455540269613266\n",
      "training loss: 0.22561615705490112\n",
      "training loss: 0.20960071682929993\n",
      "training loss: 0.23051223158836365\n",
      "validation loss: 0.13445916771888733\n",
      "validation loss: 0.20755606889724731\n",
      "epoch: 9\n",
      "training loss: 0.26367807388305664\n",
      "training loss: 0.20180340111255646\n",
      "training loss: 0.1748107373714447\n",
      "training loss: 0.21445289254188538\n",
      "training loss: 0.20029862225055695\n",
      "training loss: 0.10355010628700256\n",
      "training loss: 0.148593932390213\n",
      "training loss: 0.07305788993835449\n",
      "validation loss: 0.08035865426063538\n",
      "validation loss: 0.12714654207229614\n"
     ]
    }
   ],
   "source": [
    "def status_callback(topic, status):\n",
    "    print(f\"{topic}: {status}\")\n",
    "\n",
    "model = LinearRegressionV1(2, learning_rate=0.03)\n",
    "data = SyntheticRegressionData(w=torch.tensor([5, -2.1]), b=3.1, training_count=256, validation_count=64)\n",
    "trainer = MiniBatchTrainer(max_epochs=10)\n",
    "trainer.fit(model, data, status_callback)"
   ]
  },
  {
   "cell_type": "code",
   "execution_count": 8,
   "id": "431cb573-81bc-4f7d-b713-8135382544b4",
   "metadata": {},
   "outputs": [
    {
     "name": "stdout",
     "output_type": "stream",
     "text": [
      "Error in estimating w: tensor([ 0.3824, -0.1682])\n",
      "Error is estimating b: tensor([0.2568])\n"
     ]
    }
   ],
   "source": [
    "with torch.no_grad():\n",
    "    print(f\"Error in estimating w: {data.w - model.w.reshape(data.w.shape)}\")\n",
    "    print(f\"Error is estimating b: {data.b - model.b}\")"
   ]
  },
  {
   "cell_type": "code",
   "execution_count": null,
   "id": "fd86d72d-b16e-4f46-a022-2aba423b07c8",
   "metadata": {},
   "outputs": [],
   "source": []
  }
 ],
 "metadata": {
  "kernelspec": {
   "display_name": "virtualenv",
   "language": "python",
   "name": "virtualenv"
  },
  "language_info": {
   "codemirror_mode": {
    "name": "ipython",
    "version": 3
   },
   "file_extension": ".py",
   "mimetype": "text/x-python",
   "name": "python",
   "nbconvert_exporter": "python",
   "pygments_lexer": "ipython3",
   "version": "3.10.11"
  }
 },
 "nbformat": 4,
 "nbformat_minor": 5
}
