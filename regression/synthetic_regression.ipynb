{
 "cells": [
  {
   "cell_type": "markdown",
   "id": "e844f6b0-e642-40d7-8862-5c4a5c3b1ac4",
   "metadata": {},
   "source": [
    "# Introduction\n",
    "\n",
    "Real world datasets have surprises in them such as missing data, outliers, and data entry errors. Code you create to analyze this data has its own set of surprises such as logical errors, syntax errors and conceptual errors. In the interest of progress it can be helpful to reduce variables to just your code before introducing additional complexity. In this example we will generate a synthetic dataset and form a base regression model for the task.\n",
    "\n",
    "Based on the approach described in https://d2l.ai/chapter_linear-regression/synthetic-regression-data.html"
   ]
  },
  {
   "cell_type": "markdown",
   "id": "28b3c8fd-18d3-4f38-bbfc-16a0ad6f1033",
   "metadata": {},
   "source": [
    "# Generating Data\n",
    "\n",
    "We'll generate data from a pure linear function and then pollute the data with noise."
   ]
  },
  {
   "cell_type": "code",
   "execution_count": 14,
   "id": "08df8a7f-6e9d-4595-87f2-54649f38784a",
   "metadata": {},
   "outputs": [],
   "source": [
    "import torch\n",
    "import random\n",
    "\n",
    "# y = Xw + b + noise\n",
    "class SyntheticRegressionData():\n",
    "    def __init__(self, w, b, noise=0.1, training_count = 1000, validation_count = 1000, batch_size = 64):\n",
    "        self.batch_size = batch_size\n",
    "        self.training_count = training_count\n",
    "        self.validation_count = validation_count\n",
    "        self.observation_count = training_count + validation_count\n",
    "        self.X = torch.randn(self.observation_count, len(w))\n",
    "        noise = torch.randn(self.observation_count, 1) * noise\n",
    "        self.y = torch.matmul(self.X, w.reshape((-1, 1))) + b + noise\n",
    "\n",
    "    def get_tensorloader(self, tensors, train, indices=slice(0, None)):\n",
    "        tensors = tuple(a[indices] for a in tensors)\n",
    "        dataset = torch.utils.data.TensorDataset(*tensors)\n",
    "        return torch.utils.data.DataLoader(dataset, self.batch_size, shuffle=train)\n",
    "    \n",
    "    def get_dataloader(self, train):\n",
    "        if train:\n",
    "            # Training data is in the front of the dataset\n",
    "            i = slice(0, self.training_count)\n",
    "        else:\n",
    "            # Validation data is at the end of the dataset\n",
    "            i = slice(self.training_count, None)\n",
    "        return self.get_tensorloader((self.X, self.y), train, i)\n",
    "    \n",
    "    def training_dataloader(self):\n",
    "        return self.get_dataloader(train=True)\n",
    "\n",
    "    def validation_dataloader(self):\n",
    "        return self.get_dataloader(train=False)\n",
    "        "
   ]
  },
  {
   "cell_type": "code",
   "execution_count": 15,
   "id": "b5add6ad-d466-43d3-829e-ac1bbd70e497",
   "metadata": {},
   "outputs": [
    {
     "name": "stdout",
     "output_type": "stream",
     "text": [
      "Features: tensor([ 0.0265, -0.7153])\n",
      "Label: tensor([4.9122])\n"
     ]
    }
   ],
   "source": [
    "# Try our new class\n",
    "data = SyntheticRegressionData(w=torch.tensor([5, -2.1]), b=3.1)\n",
    "print(f\"Features: {data.X[0]}\")\n",
    "print(f\"Label: {data.y[0]}\")"
   ]
  },
  {
   "cell_type": "code",
   "execution_count": 16,
   "id": "16cc2094-7c3a-436a-8bad-a4ed8c33c225",
   "metadata": {},
   "outputs": [
    {
     "name": "stdout",
     "output_type": "stream",
     "text": [
      "X shape: torch.Size([64, 2])\n",
      "y shape: torch.Size([64, 1])\n"
     ]
    }
   ],
   "source": [
    "# Try out the training dataloader\n",
    "X, y = next(iter(data.training_dataloader()))\n",
    "print(f\"X shape: {X.shape}\")\n",
    "print(f\"y shape: {y.shape}\")"
   ]
  },
  {
   "cell_type": "code",
   "execution_count": null,
   "id": "8b02c90f-2f48-41ae-8d2a-47a89ffc7818",
   "metadata": {},
   "outputs": [],
   "source": []
  }
 ],
 "metadata": {
  "kernelspec": {
   "display_name": "virtualenv",
   "language": "python",
   "name": "virtualenv"
  },
  "language_info": {
   "codemirror_mode": {
    "name": "ipython",
    "version": 3
   },
   "file_extension": ".py",
   "mimetype": "text/x-python",
   "name": "python",
   "nbconvert_exporter": "python",
   "pygments_lexer": "ipython3",
   "version": "3.10.11"
  }
 },
 "nbformat": 4,
 "nbformat_minor": 5
}
