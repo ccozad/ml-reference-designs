{
 "cells": [
  {
   "cell_type": "markdown",
   "id": "75cccb62-9774-46d8-b8f0-432cece2ffd6",
   "metadata": {},
   "source": [
    "# Introduction\n",
    "\n",
    "Calculating derivative and gradients is an essential action in machine learning. PyTorch has built in support for automatic differentiation where the framework builds a computational graph for for how each value depends on others.  Automatic differentiation works backwards through this graph applying the chain rule from calculus, which is called backpropagation."
   ]
  },
  {
   "cell_type": "markdown",
   "id": "43210ce9-53e7-41d6-8714-09e5ecd5c6c2",
   "metadata": {},
   "source": [
    "# Create x and y data"
   ]
  },
  {
   "cell_type": "code",
   "execution_count": 1,
   "id": "e5bce98c-717f-45ce-8033-99616d838553",
   "metadata": {},
   "outputs": [
    {
     "name": "stdout",
     "output_type": "stream",
     "text": [
      "x is tensor([0., 1., 2., 3.])\n",
      "The gradient of x is None\n"
     ]
    }
   ],
   "source": [
    "import torch\n",
    "\n",
    "x = torch.arange(4.0)\n",
    "print(f\"x is {x}\")\n",
    "\n",
    "x.requires_grad_(True)\n",
    "print(f\"The gradient of x is {x.grad}\")\n",
    "\n",
    "# y = 3x^2, y' = 6x + C\n",
    "y = 3 * torch.dot(x, x)"
   ]
  },
  {
   "cell_type": "markdown",
   "id": "34039f83-b996-42c4-a529-062c41b4aaa2",
   "metadata": {},
   "source": [
    "# Backpropagation\n",
    "\n",
    "We can trigger back probagation and check the result."
   ]
  },
  {
   "cell_type": "code",
   "execution_count": 2,
   "id": "140caa67-c46b-48c7-a518-26ebc36ce059",
   "metadata": {},
   "outputs": [
    {
     "name": "stdout",
     "output_type": "stream",
     "text": [
      "The gradient of x is tensor([ 0.,  6., 12., 18.])\n",
      "Autograd produces expected results: tensor([True, True, True, True])\n"
     ]
    }
   ],
   "source": [
    "y.backward()\n",
    "print(f\"The gradient of x is {x.grad}\")\n",
    "verify_autograd = x.grad == 6 * x\n",
    "print(f\"Autograd produces expected results: {verify_autograd}\")"
   ]
  },
  {
   "cell_type": "markdown",
   "id": "43e98e23-6c6e-42c4-ad80-f974f135374f",
   "metadata": {},
   "source": [
    "# Python Control Flow\n",
    "\n",
    "Computational graphs can also track computation through arbitrary Python control flow. This opens up powerful constructs such as algorithms that operate on variable amounts of data."
   ]
  },
  {
   "cell_type": "code",
   "execution_count": 3,
   "id": "19ad63ef-7cea-40ac-98f8-86ee36078e78",
   "metadata": {},
   "outputs": [],
   "source": [
    "# Toy example: absolute value\n",
    "def f(a):\n",
    "    b = a\n",
    "    if a < 0:\n",
    "        b = -a\n",
    "\n",
    "    return b"
   ]
  },
  {
   "cell_type": "code",
   "execution_count": 4,
   "id": "f686ec34-013a-4769-801c-6fe37b95e13c",
   "metadata": {},
   "outputs": [
    {
     "name": "stdout",
     "output_type": "stream",
     "text": [
      "Tensor a has the value: tensor([-5.], requires_grad=True)\n",
      "Tensor b has the value: tensor([3.], requires_grad=True)\n",
      "Tensor f(a) has the value: tensor([5.], grad_fn=<NegBackward0>)\n",
      "Tensor f(b) has the value: tensor([3.], requires_grad=True)\n",
      "Gradient for a: tensor([-1.])\n",
      "Gradient for b: tensor([1.])\n",
      "Custom control flow produces expected gradnient for a: tensor([True])\n",
      "Custom control flow produces expected gradnient for b: tensor([True])\n"
     ]
    }
   ],
   "source": [
    "a = torch.tensor([-5.0], requires_grad=True)\n",
    "b = torch.tensor([3.0], requires_grad=True)\n",
    "c = f(a)\n",
    "c.backward()\n",
    "d = f(b)\n",
    "d.backward()\n",
    "\n",
    "# verify result\n",
    "expected_a = torch.tensor([-1])\n",
    "expected_b = torch.tensor([1])\n",
    "verify_a = a.grad == expected_a\n",
    "verify_b = b.grad == expected_b\n",
    "print(f\"Tensor a has the value: {a}\")\n",
    "print(f\"Tensor b has the value: {b}\")\n",
    "print(f\"Tensor f(a) has the value: {c}\")\n",
    "print(f\"Tensor f(b) has the value: {b}\")\n",
    "print(f\"Gradient for a: {a.grad}\")\n",
    "print(f\"Gradient for b: {b.grad}\")\n",
    "print(f\"Custom control flow produces expected gradnient for a: {verify_a}\")\n",
    "print(f\"Custom control flow produces expected gradnient for b: {verify_b}\")"
   ]
  }
 ],
 "metadata": {
  "kernelspec": {
   "display_name": "virtualenv",
   "language": "python",
   "name": "virtualenv"
  },
  "language_info": {
   "codemirror_mode": {
    "name": "ipython",
    "version": 3
   },
   "file_extension": ".py",
   "mimetype": "text/x-python",
   "name": "python",
   "nbconvert_exporter": "python",
   "pygments_lexer": "ipython3",
   "version": "3.10.11"
  }
 },
 "nbformat": 4,
 "nbformat_minor": 5
}
