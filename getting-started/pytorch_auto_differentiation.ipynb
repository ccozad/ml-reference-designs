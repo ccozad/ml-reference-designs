{
 "cells": [
  {
   "cell_type": "markdown",
   "id": "75cccb62-9774-46d8-b8f0-432cece2ffd6",
   "metadata": {},
   "source": [
    "# Introduction\n",
    "\n",
    "Calculating derivative and gradients is an essential action in machine learning. PyTorch has built in support for automatic differentiation where the framework builds a computational graph for for how each value depends on others..  Automatic differentiation works backwards through this graph applying the chain rule from calculus, which is called backpropagation."
   ]
  },
  {
   "cell_type": "markdown",
   "id": "43210ce9-53e7-41d6-8714-09e5ecd5c6c2",
   "metadata": {},
   "source": [
    "# Create x and y data"
   ]
  },
  {
   "cell_type": "code",
   "execution_count": 1,
   "id": "e5bce98c-717f-45ce-8033-99616d838553",
   "metadata": {},
   "outputs": [
    {
     "name": "stdout",
     "output_type": "stream",
     "text": [
      "x is tensor([0., 1., 2., 3.])\n",
      "The gradient of x is None\n",
      "y is 42.0\n"
     ]
    }
   ],
   "source": [
    "import torch\n",
    "\n",
    "x = torch.arange(4.0)\n",
    "print(f\"x is {x}\")\n",
    "\n",
    "x.requires_grad_(True)\n",
    "print(f\"The gradient of x is {x.grad}\")\n",
    "\n",
    "# y = 3x^2, y' = 6x + C\n",
    "y = 3 * torch.dot(x, x)\n",
    "print(f\"y is {y}\")"
   ]
  },
  {
   "cell_type": "markdown",
   "id": "34039f83-b996-42c4-a529-062c41b4aaa2",
   "metadata": {},
   "source": [
    "# Backpropagation\n",
    "\n",
    "We can trigger back probagation and check the result."
   ]
  },
  {
   "cell_type": "code",
   "execution_count": 2,
   "id": "140caa67-c46b-48c7-a518-26ebc36ce059",
   "metadata": {},
   "outputs": [
    {
     "name": "stdout",
     "output_type": "stream",
     "text": [
      "The gradient of x is tensor([ 0.,  6., 12., 18.])\n",
      "Autograd produces expected results: tensor([True, True, True, True])\n"
     ]
    }
   ],
   "source": [
    "y.backward()\n",
    "print(f\"The gradient of x is {x.grad}\")\n",
    "verify_autograd = x.grad == 6 * x\n",
    "print(f\"Autograd produces expected results: {verify_autograd}\")"
   ]
  },
  {
   "cell_type": "code",
   "execution_count": null,
   "id": "b6966f47-e746-4852-9d4b-3ffef02c5e44",
   "metadata": {},
   "outputs": [],
   "source": []
  }
 ],
 "metadata": {
  "kernelspec": {
   "display_name": "virtualenv",
   "language": "python",
   "name": "virtualenv"
  },
  "language_info": {
   "codemirror_mode": {
    "name": "ipython",
    "version": 3
   },
   "file_extension": ".py",
   "mimetype": "text/x-python",
   "name": "python",
   "nbconvert_exporter": "python",
   "pygments_lexer": "ipython3",
   "version": "3.10.11"
  }
 },
 "nbformat": 4,
 "nbformat_minor": 5
}
