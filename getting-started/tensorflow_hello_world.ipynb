{
 "cells": [
  {
   "cell_type": "markdown",
   "id": "fb2ca2ca-fe88-4375-9dae-e807fa3fb5b4",
   "metadata": {},
   "source": [
    "# Introduction\n",
    "\n",
    "This is a minimalistic example that calls Tesorflow with simple inputs. This notebook can be used to check that you have tensor flow installed correctly\n"
   ]
  },
  {
   "cell_type": "markdown",
   "id": "7dc6dba9-6648-4920-ba0f-3c4b1c0d2a31",
   "metadata": {},
   "source": [
    "# Imports\n",
    "\n",
    "We use tensorflow, numpy and the keras module from tensor flow"
   ]
  },
  {
   "cell_type": "code",
   "execution_count": 1,
   "id": "f03188cb-3512-4fd5-917a-6f1dc9bd2b0c",
   "metadata": {},
   "outputs": [],
   "source": [
    "import tensorflow as tf\n",
    "import numpy as np\n",
    "from tensorflow import keras"
   ]
  },
  {
   "cell_type": "markdown",
   "id": "b464719f-93ac-4e49-8c0f-ded8fa48f66e",
   "metadata": {},
   "source": [
    "We have a single neuron"
   ]
  },
  {
   "cell_type": "code",
   "execution_count": null,
   "id": "a8f63ca5-1824-4bc4-9be0-fe4d696fdf16",
   "metadata": {},
   "outputs": [],
   "source": [
    "model = tf.keras.Sequential()\n",
    "model.add(tf.keras.Input(shape=(1,)))\n",
    "model.add(keras.layers.Dense(units=1))"
   ]
  },
  {
   "cell_type": "markdown",
   "id": "d61f18d2-6908-4870-bb10-a0f877036a08",
   "metadata": {},
   "source": [
    "Compile the model"
   ]
  },
  {
   "cell_type": "code",
   "execution_count": null,
   "id": "05237d42-2868-47ef-844f-a58e3848f307",
   "metadata": {},
   "outputs": [],
   "source": [
    "model.compile(optimizer='sgd', loss='mean_squared_error')"
   ]
  },
  {
   "cell_type": "markdown",
   "id": "4ccf578a-a145-4e9d-a6ec-341fb908b0ea",
   "metadata": {},
   "source": [
    "We'll use a simple linear equation to generate a few data points. We'll use y=10x-3 for our equation."
   ]
  },
  {
   "cell_type": "code",
   "execution_count": null,
   "id": "c4803bfa-45b2-4e8a-a888-7f291e38aaec",
   "metadata": {},
   "outputs": [],
   "source": [
    "xs = np.array([-1.0, 0.0, 1.0, 2.0, 3.0, 4.0], dtype=float)\n",
    "ys = np.array([-13.0, -3.0, 7.0, 17.0, 27.0, 37.0], dtype=float)"
   ]
  },
  {
   "cell_type": "markdown",
   "id": "c03a3b1e-7324-41a1-9795-fd4e16d34e78",
   "metadata": {},
   "source": [
    "Train the model"
   ]
  },
  {
   "cell_type": "code",
   "execution_count": null,
   "id": "daf4e18e-8e6e-48a4-bad8-dfb6430d4eb9",
   "metadata": {
    "scrolled": true
   },
   "outputs": [],
   "source": [
    "model.fit(xs, ys, epochs=500)"
   ]
  },
  {
   "cell_type": "markdown",
   "id": "2dcc9111-a71a-4e35-be0a-993f2c257d9c",
   "metadata": {},
   "source": [
    "Use the model"
   ]
  },
  {
   "cell_type": "code",
   "execution_count": null,
   "id": "388eecc2-586b-4879-a6fd-d684cd550d1f",
   "metadata": {},
   "outputs": [],
   "source": [
    "values = np.array([10.0, 20.0], dtype=float)\n",
    "print(model.predict(values))"
   ]
  }
 ],
 "metadata": {
  "kernelspec": {
   "display_name": "virtualenv",
   "language": "python",
   "name": "virtualenv"
  },
  "language_info": {
   "codemirror_mode": {
    "name": "ipython",
    "version": 3
   },
   "file_extension": ".py",
   "mimetype": "text/x-python",
   "name": "python",
   "nbconvert_exporter": "python",
   "pygments_lexer": "ipython3",
   "version": "3.10.11"
  }
 },
 "nbformat": 4,
 "nbformat_minor": 5
}
