{
 "cells": [
  {
   "cell_type": "markdown",
   "id": "99040593-aec7-4388-a529-3849a230e8cf",
   "metadata": {},
   "source": [
    "# Introduction\n",
    "\n",
    "Pytorch has good GPU support across Windows and Linux operating systems"
   ]
  },
  {
   "cell_type": "code",
   "execution_count": 1,
   "id": "b616b52c-7160-4009-9fcd-8c383c79920e",
   "metadata": {},
   "outputs": [
    {
     "data": {
      "text/plain": [
       "True"
      ]
     },
     "execution_count": 1,
     "metadata": {},
     "output_type": "execute_result"
    }
   ],
   "source": [
    "import torch\n",
    "torch.cuda.is_available()"
   ]
  }
 ],
 "metadata": {
  "kernelspec": {
   "display_name": "virtualenv",
   "language": "python",
   "name": "virtualenv"
  },
  "language_info": {
   "codemirror_mode": {
    "name": "ipython",
    "version": 3
   },
   "file_extension": ".py",
   "mimetype": "text/x-python",
   "name": "python",
   "nbconvert_exporter": "python",
   "pygments_lexer": "ipython3",
   "version": "3.10.11"
  }
 },
 "nbformat": 4,
 "nbformat_minor": 5
}
