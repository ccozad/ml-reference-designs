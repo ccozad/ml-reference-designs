{
 "cells": [
  {
   "cell_type": "markdown",
   "id": "99040593-aec7-4388-a529-3849a230e8cf",
   "metadata": {},
   "source": [
    "# Introduction\n",
    "\n",
    "Pytorch has good GPU support across Windows and Linux operating systems"
   ]
  },
  {
   "cell_type": "markdown",
   "id": "dc0b58bc-15c3-48fc-8f15-fc9618064613",
   "metadata": {},
   "source": [
    "Determine if a CUDA GPU is available"
   ]
  },
  {
   "cell_type": "code",
   "execution_count": 1,
   "id": "b616b52c-7160-4009-9fcd-8c383c79920e",
   "metadata": {},
   "outputs": [
    {
     "data": {
      "text/plain": [
       "True"
      ]
     },
     "execution_count": 1,
     "metadata": {},
     "output_type": "execute_result"
    }
   ],
   "source": [
    "import torch\n",
    "torch.cuda.is_available()"
   ]
  },
  {
   "cell_type": "markdown",
   "id": "744faf3e-8666-478a-bb71-97ddb2d434d4",
   "metadata": {},
   "source": [
    "Count of devices"
   ]
  },
  {
   "cell_type": "code",
   "execution_count": 2,
   "id": "687babce-e9d9-4b17-9978-36120acb25e2",
   "metadata": {},
   "outputs": [
    {
     "data": {
      "text/plain": [
       "1"
      ]
     },
     "execution_count": 2,
     "metadata": {},
     "output_type": "execute_result"
    }
   ],
   "source": [
    "torch.cuda.device_count()"
   ]
  },
  {
   "cell_type": "markdown",
   "id": "353aa10e-9dd9-4ee9-aa02-1d6659b4cfdb",
   "metadata": {},
   "source": [
    "Get name of selected device name"
   ]
  },
  {
   "cell_type": "code",
   "execution_count": 3,
   "id": "2959bcf4-1196-4c74-8031-50d1860cd35e",
   "metadata": {},
   "outputs": [
    {
     "data": {
      "text/plain": [
       "'NVIDIA GeForce RTX 3060'"
      ]
     },
     "execution_count": 3,
     "metadata": {},
     "output_type": "execute_result"
    }
   ],
   "source": [
    "torch.cuda.get_device_name()"
   ]
  },
  {
   "cell_type": "markdown",
   "id": "f9ce950b-c41e-4055-88a7-5768d45bf84c",
   "metadata": {},
   "source": [
    "Index of current device"
   ]
  },
  {
   "cell_type": "code",
   "execution_count": 4,
   "id": "fbe9a10c-64cb-4afc-b3b3-df9c2dbf6587",
   "metadata": {},
   "outputs": [
    {
     "data": {
      "text/plain": [
       "0"
      ]
     },
     "execution_count": 4,
     "metadata": {},
     "output_type": "execute_result"
    }
   ],
   "source": [
    "torch.cuda.current_device()"
   ]
  },
  {
   "cell_type": "markdown",
   "id": "657cc281-35b7-436b-bffa-aef21acb0697",
   "metadata": {},
   "source": [
    "Properties about a device"
   ]
  },
  {
   "cell_type": "code",
   "execution_count": 5,
   "id": "5b91a9e8-5cea-4ae4-88b4-019994c2324c",
   "metadata": {},
   "outputs": [
    {
     "data": {
      "text/plain": [
       "_CudaDeviceProperties(name='NVIDIA GeForce RTX 3060', major=8, minor=6, total_memory=12287MB, multi_processor_count=28)"
      ]
     },
     "execution_count": 5,
     "metadata": {},
     "output_type": "execute_result"
    }
   ],
   "source": [
    "torch.cuda.get_device_properties(\"cuda:0\")"
   ]
  },
  {
   "cell_type": "markdown",
   "id": "a8ac8bd6-b58c-4aa1-92de-7595b549f3f3",
   "metadata": {},
   "source": [
    "Cuda capability of device"
   ]
  },
  {
   "cell_type": "code",
   "execution_count": 6,
   "id": "f91d8192-239f-4188-b674-1b7906a848f6",
   "metadata": {},
   "outputs": [
    {
     "data": {
      "text/plain": [
       "(8, 6)"
      ]
     },
     "execution_count": 6,
     "metadata": {},
     "output_type": "execute_result"
    }
   ],
   "source": [
    "torch.cuda.get_device_capability(\"cuda:0\")"
   ]
  }
 ],
 "metadata": {
  "kernelspec": {
   "display_name": "virtualenv",
   "language": "python",
   "name": "virtualenv"
  },
  "language_info": {
   "codemirror_mode": {
    "name": "ipython",
    "version": 3
   },
   "file_extension": ".py",
   "mimetype": "text/x-python",
   "name": "python",
   "nbconvert_exporter": "python",
   "pygments_lexer": "ipython3",
   "version": "3.10.11"
  }
 },
 "nbformat": 4,
 "nbformat_minor": 5
}
