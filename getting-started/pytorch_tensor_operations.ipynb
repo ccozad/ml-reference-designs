{
 "cells": [
  {
   "cell_type": "markdown",
   "id": "fd247a79-ee56-4446-a86f-f358e992623c",
   "metadata": {},
   "source": [
    "# Introduction\n",
    "\n",
    "Tensors are a fundamental datastructure in pytorch. Tensors are n-dimensional array."
   ]
  },
  {
   "cell_type": "markdown",
   "id": "c7227421-3a0e-4954-815d-8797f94e0d84",
   "metadata": {},
   "source": [
    "# Basics"
   ]
  },
  {
   "cell_type": "code",
   "execution_count": 1,
   "id": "e636d626-531d-4d23-af3f-0c774e11501f",
   "metadata": {},
   "outputs": [
    {
     "name": "stdout",
     "output_type": "stream",
     "text": [
      "tensor([0., 1., 2., 3., 4., 5., 6., 7., 8., 9.], dtype=torch.float64)\n",
      "x has 10 elements\n",
      "x has a shape of torch.Size([10])\n"
     ]
    }
   ],
   "source": [
    "# We can fill a tensor a range of values\n",
    "import torch\n",
    "\n",
    "x = torch.arange(10, dtype=torch.float64)\n",
    "print(x)\n",
    "print(f\"x has {x.numel()} elements\")\n",
    "print(f\"x has a shape of {x.shape}\")"
   ]
  },
  {
   "cell_type": "code",
   "execution_count": 2,
   "id": "42d52823-c4ef-4793-a33e-ad8192dfe044",
   "metadata": {},
   "outputs": [
    {
     "name": "stdout",
     "output_type": "stream",
     "text": [
      "We reshaped x into X, which has a shape of torch.Size([2, 5])\n",
      "tensor([[0., 1., 2., 3., 4.],\n",
      "        [5., 6., 7., 8., 9.]], dtype=torch.float64)\n"
     ]
    }
   ],
   "source": [
    "# We can reshape x without changing the values\n",
    "\n",
    "X = x.reshape(2,5)\n",
    "print(f\"We reshaped x into X, which has a shape of {X.shape}\")\n",
    "print(X)"
   ]
  },
  {
   "cell_type": "code",
   "execution_count": 3,
   "id": "682ea236-8e0d-4e0a-9bb3-a028d7e051e9",
   "metadata": {},
   "outputs": [
    {
     "name": "stdout",
     "output_type": "stream",
     "text": [
      "tensor([[0., 0., 0.],\n",
      "        [0., 0., 0.],\n",
      "        [0., 0., 0.]])\n",
      "tensor([[1., 1., 1.],\n",
      "        [1., 1., 1.],\n",
      "        [1., 1., 1.]])\n",
      "tensor([[0.4341, 0.6158, 0.8276],\n",
      "        [0.3254, 0.4183, 0.9883],\n",
      "        [0.9799, 0.5746, 0.7240]])\n"
     ]
    }
   ],
   "source": [
    "# We can create tensors with constants or random values\n",
    "\n",
    "# Fill with ones\n",
    "tensor_0 = torch.zeros((3,3))\n",
    "tensor_1 = torch.ones((3,3))\n",
    "tensor_random = torch.rand((3,3))\n",
    "\n",
    "print(tensor_0)\n",
    "print(tensor_1)\n",
    "print(tensor_random)"
   ]
  },
  {
   "cell_type": "markdown",
   "id": "d6b7f9c3-2413-49a1-ae27-24f36a0bf3dc",
   "metadata": {},
   "source": [
    "# Accessing Tensor Elements\n",
    "\n",
    "Tensors follow the indexing conventions for lists in python. Indexes are zero based, increasing from the front of the collection. Negative indexes are allowed with a meaning of indexing from the end of the collection. Slices specify ranges of indexes with a start and stop value separated by `:`"
   ]
  },
  {
   "cell_type": "code",
   "execution_count": 4,
   "id": "a2557b72-6689-4d8f-9457-3d0af5138fa1",
   "metadata": {},
   "outputs": [
    {
     "name": "stdout",
     "output_type": "stream",
     "text": [
      "Tensor at index 1: tensor([0.3254, 0.4183, 0.9883])\n",
      "The tensor at the last index is: tensor([0.9799, 0.5746, 0.7240])\n",
      "The first two elements of the tensor are: tensor([[0.4341, 0.6158, 0.8276],\n",
      "        [0.3254, 0.4183, 0.9883]])\n"
     ]
    }
   ],
   "source": [
    "print(f\"Tensor at index 1: {tensor_random[1]}\")\n",
    "print(f\"The tensor at the last index is: {tensor_random[-1]}\")\n",
    "print(f\"The first two elements of the tensor are: {tensor_random[0:2]}\")"
   ]
  },
  {
   "cell_type": "markdown",
   "id": "0634f6b4-1098-4003-9baf-5d0357f3693d",
   "metadata": {},
   "source": [
    "# Elementwise Operations\n",
    "\n",
    "Element wise operations apply a standard scalar operation to each element."
   ]
  },
  {
   "cell_type": "code",
   "execution_count": 5,
   "id": "9c86810d-7df4-4adc-bd70-fd0460ec91f6",
   "metadata": {},
   "outputs": [
    {
     "name": "stdout",
     "output_type": "stream",
     "text": [
      "Original value of a: tensor([ 0.1598, -1.0111, -1.3132,  0.6465,  0.7383, -0.3146,  0.4081,  0.9147,\n",
      "        -1.4091, -1.2341])\n",
      "Results of clamping to the range (-0.5, 0.5): tensor([ 0.1598, -0.5000, -0.5000,  0.5000,  0.5000, -0.3146,  0.4081,  0.5000,\n",
      "        -0.5000, -0.5000])\n"
     ]
    }
   ],
   "source": [
    "a = torch.randn(10)\n",
    "print(f\"Original value of a: {a}\")\n",
    "a_clamp = torch.clamp(a, min=-0.5, max=0.5);\n",
    "print(f\"Results of clamping to the range (-0.5, 0.5): {a_clamp}\")"
   ]
  },
  {
   "cell_type": "code",
   "execution_count": 6,
   "id": "4aaa87f5-bc91-454f-b81b-15892fc60a76",
   "metadata": {},
   "outputs": [
    {
     "name": "stdout",
     "output_type": "stream",
     "text": [
      "b: tensor([  1,  10, 100])\n",
      "c: tensor([  5,  50, 500])\n",
      "b + c: tensor([  6,  60, 600])\n"
     ]
    }
   ],
   "source": [
    "# We can also do arithmatic across vectors of the same dimension\n",
    "\n",
    "b = torch.tensor([1, 10, 100])\n",
    "c = torch.tensor([5, 50, 500])\n",
    "print(f\"b: {b}\")\n",
    "print(f\"c: {c}\")\n",
    "print(f\"b + c: {b+c}\")"
   ]
  },
  {
   "cell_type": "markdown",
   "id": "87d8d6d3-9b7d-4556-b523-47a771075ce6",
   "metadata": {},
   "source": [
    "# Concatenate tensors\n",
    "\n",
    "We can combine elements in a tensor to make a larger tensor"
   ]
  },
  {
   "cell_type": "code",
   "execution_count": 7,
   "id": "10c4d0b4-1e5f-4c5b-9af8-19df999b42e1",
   "metadata": {},
   "outputs": [
    {
     "name": "stdout",
     "output_type": "stream",
     "text": [
      "tensor([  1,  10, 100,   5,  50, 500])\n"
     ]
    }
   ],
   "source": [
    "e = torch.cat((b,c), dim=0)\n",
    "print(e)"
   ]
  },
  {
   "cell_type": "markdown",
   "id": "e077f3ad-c879-4e0b-8770-c4cc87b5bed2",
   "metadata": {},
   "source": [
    "# Comparison\n",
    "\n",
    "We can compare each tesor element to another tensor element by using logical statements"
   ]
  },
  {
   "cell_type": "code",
   "execution_count": 8,
   "id": "f034b1e8-3bad-4a53-968f-96b0a3600d28",
   "metadata": {},
   "outputs": [
    {
     "name": "stdout",
     "output_type": "stream",
     "text": [
      "tensor([ True, False, False])\n"
     ]
    }
   ],
   "source": [
    "f = torch.tensor([1, 2, 3])\n",
    "g = torch.tensor([1, 8, 9])\n",
    "print(f == g)"
   ]
  },
  {
   "cell_type": "markdown",
   "id": "1ef08392-b67e-4e32-94ed-a4fae0a43ca1",
   "metadata": {},
   "source": [
    "# Reduction Operations\n",
    "\n",
    "We can also perform operation on a tensor that reduce to a single value"
   ]
  },
  {
   "cell_type": "code",
   "execution_count": 9,
   "id": "f3f2a9db-9fce-4e45-afeb-1b40c7be9607",
   "metadata": {},
   "outputs": [
    {
     "data": {
      "text/plain": [
       "tensor(6)"
      ]
     },
     "execution_count": 9,
     "metadata": {},
     "output_type": "execute_result"
    }
   ],
   "source": [
    "torch.sum(f)"
   ]
  },
  {
   "cell_type": "markdown",
   "id": "dc9be66d-1edf-4003-9e26-9d12f724a40a",
   "metadata": {},
   "source": [
    "# In Place Updates\n",
    "\n",
    "We can conserve space by doing inplace updates for tensors"
   ]
  },
  {
   "cell_type": "code",
   "execution_count": 10,
   "id": "f99c35df-78f6-4a62-87eb-7cb90775b74e",
   "metadata": {},
   "outputs": [
    {
     "name": "stdout",
     "output_type": "stream",
     "text": [
      "ID of j before the operation: 2213680139376\n",
      "ID of j after the operation: 2213680145696\n",
      "ID of j before the operation: 2213680145776\n",
      "ID of j after the operation: 2213680145776\n"
     ]
    }
   ],
   "source": [
    "# This approach changes the address of j\n",
    "j = torch.tensor([1, 10, 100])\n",
    "print(f\"ID of j before the operation: {id(j)}\")\n",
    "k = torch.tensor([5, 50, 500])\n",
    "j = j + k\n",
    "print(f\"ID of j after the operation: {id(j)}\")\n",
    "\n",
    "# This approach updates j in place\n",
    "j = torch.tensor([1, 10, 100])\n",
    "print(f\"ID of j before the operation: {id(j)}\")\n",
    "k = torch.tensor([5, 50, 500])\n",
    "j[:] = j + k\n",
    "print(f\"ID of j after the operation: {id(j)}\")"
   ]
  },
  {
   "cell_type": "markdown",
   "id": "5a111eaa-38f3-4023-b1b3-8a2372cbba42",
   "metadata": {},
   "source": [
    "# From file to tensor\n",
    "\n",
    "We need to chain a few steps using numpy and PyTorch to get data loaded into a tensor."
   ]
  },
  {
   "cell_type": "code",
   "execution_count": 11,
   "id": "ce07415c-b731-435f-b9fb-901421255d28",
   "metadata": {},
   "outputs": [],
   "source": [
    "# Make a fake file for our example\n",
    "\n",
    "import os\n",
    "\n",
    "os.makedirs(os.path.join('.', 'data'), exist_ok=True)\n",
    "data_file = os.path.join('.', 'data', 'house_tiny.csv')\n",
    "with open(data_file, 'w') as f:\n",
    "    f.write('''NumRooms,RoofType,Price\n",
    "NA,NA,127500\n",
    "2,NA,106000\n",
    "4,Slate,178100\n",
    "NA,NA,140000''')"
   ]
  },
  {
   "cell_type": "code",
   "execution_count": 12,
   "id": "d2a16be7-24ac-4cab-a2e2-9a70d88dda10",
   "metadata": {},
   "outputs": [
    {
     "name": "stdout",
     "output_type": "stream",
     "text": [
      "Original data file\n"
     ]
    },
    {
     "data": {
      "text/html": [
       "<div>\n",
       "<style scoped>\n",
       "    .dataframe tbody tr th:only-of-type {\n",
       "        vertical-align: middle;\n",
       "    }\n",
       "\n",
       "    .dataframe tbody tr th {\n",
       "        vertical-align: top;\n",
       "    }\n",
       "\n",
       "    .dataframe thead th {\n",
       "        text-align: right;\n",
       "    }\n",
       "</style>\n",
       "<table border=\"1\" class=\"dataframe\">\n",
       "  <thead>\n",
       "    <tr style=\"text-align: right;\">\n",
       "      <th></th>\n",
       "      <th>NumRooms</th>\n",
       "      <th>RoofType</th>\n",
       "      <th>Price</th>\n",
       "    </tr>\n",
       "  </thead>\n",
       "  <tbody>\n",
       "    <tr>\n",
       "      <th>0</th>\n",
       "      <td>NaN</td>\n",
       "      <td>NaN</td>\n",
       "      <td>127500</td>\n",
       "    </tr>\n",
       "    <tr>\n",
       "      <th>1</th>\n",
       "      <td>2.0</td>\n",
       "      <td>NaN</td>\n",
       "      <td>106000</td>\n",
       "    </tr>\n",
       "    <tr>\n",
       "      <th>2</th>\n",
       "      <td>4.0</td>\n",
       "      <td>Slate</td>\n",
       "      <td>178100</td>\n",
       "    </tr>\n",
       "    <tr>\n",
       "      <th>3</th>\n",
       "      <td>NaN</td>\n",
       "      <td>NaN</td>\n",
       "      <td>140000</td>\n",
       "    </tr>\n",
       "  </tbody>\n",
       "</table>\n",
       "</div>"
      ],
      "text/plain": [
       "   NumRooms RoofType   Price\n",
       "0       NaN      NaN  127500\n",
       "1       2.0      NaN  106000\n",
       "2       4.0    Slate  178100\n",
       "3       NaN      NaN  140000"
      ]
     },
     "metadata": {},
     "output_type": "display_data"
    },
    {
     "name": "stdout",
     "output_type": "stream",
     "text": [
      "Transformed data\n"
     ]
    },
    {
     "data": {
      "text/html": [
       "<div>\n",
       "<style scoped>\n",
       "    .dataframe tbody tr th:only-of-type {\n",
       "        vertical-align: middle;\n",
       "    }\n",
       "\n",
       "    .dataframe tbody tr th {\n",
       "        vertical-align: top;\n",
       "    }\n",
       "\n",
       "    .dataframe thead th {\n",
       "        text-align: right;\n",
       "    }\n",
       "</style>\n",
       "<table border=\"1\" class=\"dataframe\">\n",
       "  <thead>\n",
       "    <tr style=\"text-align: right;\">\n",
       "      <th></th>\n",
       "      <th>NumRooms</th>\n",
       "      <th>RoofType_Slate</th>\n",
       "      <th>RoofType_nan</th>\n",
       "    </tr>\n",
       "  </thead>\n",
       "  <tbody>\n",
       "    <tr>\n",
       "      <th>0</th>\n",
       "      <td>3.0</td>\n",
       "      <td>False</td>\n",
       "      <td>True</td>\n",
       "    </tr>\n",
       "    <tr>\n",
       "      <th>1</th>\n",
       "      <td>2.0</td>\n",
       "      <td>False</td>\n",
       "      <td>True</td>\n",
       "    </tr>\n",
       "    <tr>\n",
       "      <th>2</th>\n",
       "      <td>4.0</td>\n",
       "      <td>True</td>\n",
       "      <td>False</td>\n",
       "    </tr>\n",
       "    <tr>\n",
       "      <th>3</th>\n",
       "      <td>3.0</td>\n",
       "      <td>False</td>\n",
       "      <td>True</td>\n",
       "    </tr>\n",
       "  </tbody>\n",
       "</table>\n",
       "</div>"
      ],
      "text/plain": [
       "   NumRooms  RoofType_Slate  RoofType_nan\n",
       "0       3.0           False          True\n",
       "1       2.0           False          True\n",
       "2       4.0            True         False\n",
       "3       3.0           False          True"
      ]
     },
     "metadata": {},
     "output_type": "display_data"
    }
   ],
   "source": [
    "from IPython.display import display\n",
    "import pandas as pd\n",
    "\n",
    "# Read the data from the csv file\n",
    "data = pd.read_csv(data_file)\n",
    "print(\"Original data file\")\n",
    "display(data.head())\n",
    "\n",
    "# Split between inputs and targets\n",
    "inputs, targets = data[[\"NumRooms\", \"RoofType\"]], data[[\"Price\"]]\n",
    "# Deal with NaN categories\n",
    "inputs = pd.get_dummies(inputs, dummy_na=True)\n",
    "# Deal with Nan numerical fields\n",
    "inputs[\"NumRooms\"] = inputs[\"NumRooms\"].fillna(inputs[\"NumRooms\"].mean())\n",
    "print(\"Transformed data\")\n",
    "display(inputs)"
   ]
  },
  {
   "cell_type": "code",
   "execution_count": 13,
   "id": "9d26d14b-b85c-4001-ace3-dc893d378695",
   "metadata": {},
   "outputs": [
    {
     "data": {
      "text/plain": [
       "(tensor([[3., 0., 1.],\n",
       "         [2., 0., 1.],\n",
       "         [4., 1., 0.],\n",
       "         [3., 0., 1.]], dtype=torch.float64),\n",
       " tensor([[127500.],\n",
       "         [106000.],\n",
       "         [178100.],\n",
       "         [140000.]], dtype=torch.float64))"
      ]
     },
     "execution_count": 13,
     "metadata": {},
     "output_type": "execute_result"
    }
   ],
   "source": [
    "import torch\n",
    "\n",
    "# Pandas data frame -> numpy array -> PyTorch tensor\n",
    "X = torch.tensor(inputs.to_numpy(dtype=float))\n",
    "y = torch.tensor(targets.to_numpy(dtype=float))\n",
    "X, y"
   ]
  }
 ],
 "metadata": {
  "kernelspec": {
   "display_name": "virtualenv",
   "language": "python",
   "name": "virtualenv"
  },
  "language_info": {
   "codemirror_mode": {
    "name": "ipython",
    "version": 3
   },
   "file_extension": ".py",
   "mimetype": "text/x-python",
   "name": "python",
   "nbconvert_exporter": "python",
   "pygments_lexer": "ipython3",
   "version": "3.10.11"
  }
 },
 "nbformat": 4,
 "nbformat_minor": 5
}
